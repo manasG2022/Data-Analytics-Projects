{
 "cells": [
  {
   "cell_type": "code",
   "execution_count": null,
   "id": "05eaf5c6",
   "metadata": {},
   "outputs": [],
   "source": []
  },
  {
   "cell_type": "markdown",
   "id": "5b752c90",
   "metadata": {},
   "source": [
    "## Predicting Movie Ticket Price of Indian Movie Theatre"
   ]
  },
  {
   "cell_type": "code",
   "execution_count": 1,
   "id": "393e4c66",
   "metadata": {},
   "outputs": [],
   "source": [
    "### Importing Libraries\n",
    "import pandas as pd\n",
    "import numpy as np\n",
    "import seaborn as sns\n",
    "import matplotlib.pyplot as plt"
   ]
  },
  {
   "cell_type": "code",
   "execution_count": 2,
   "id": "6f422f33",
   "metadata": {},
   "outputs": [],
   "source": [
    "df = pd.read_csv('indian-movie-theatres.csv')"
   ]
  },
  {
   "cell_type": "code",
   "execution_count": 3,
   "id": "9017d4a3",
   "metadata": {},
   "outputs": [
    {
     "data": {
      "text/plain": [
       "(578, 15)"
      ]
     },
     "execution_count": 3,
     "metadata": {},
     "output_type": "execute_result"
    }
   ],
   "source": [
    "### Columns and Variables\n",
    "df.shape"
   ]
  },
  {
   "cell_type": "markdown",
   "id": "70d7a5ba",
   "metadata": {},
   "source": [
    "There are 578 total data points and 15 variables"
   ]
  },
  {
   "cell_type": "code",
   "execution_count": 4,
   "id": "6a79a674",
   "metadata": {},
   "outputs": [
    {
     "data": {
      "text/html": [
       "<div>\n",
       "<style scoped>\n",
       "    .dataframe tbody tr th:only-of-type {\n",
       "        vertical-align: middle;\n",
       "    }\n",
       "\n",
       "    .dataframe tbody tr th {\n",
       "        vertical-align: top;\n",
       "    }\n",
       "\n",
       "    .dataframe thead th {\n",
       "        text-align: right;\n",
       "    }\n",
       "</style>\n",
       "<table border=\"1\" class=\"dataframe\">\n",
       "  <thead>\n",
       "    <tr style=\"text-align: right;\">\n",
       "      <th></th>\n",
       "      <th>city</th>\n",
       "      <th>theatre_name</th>\n",
       "      <th>average_ticket_price</th>\n",
       "      <th>total_seats</th>\n",
       "      <th>no_screens</th>\n",
       "      <th>type</th>\n",
       "      <th>theatre_chain</th>\n",
       "      <th>lat</th>\n",
       "      <th>lon</th>\n",
       "      <th>calculated_seats</th>\n",
       "      <th>calculated_ticket_prices</th>\n",
       "      <th>calculated_screens</th>\n",
       "      <th>average_2</th>\n",
       "      <th>source_of_information</th>\n",
       "      <th>notes</th>\n",
       "    </tr>\n",
       "  </thead>\n",
       "  <tbody>\n",
       "    <tr>\n",
       "      <th>0</th>\n",
       "      <td>Ahmedabad</td>\n",
       "      <td>AB Miniplex: Shivranjini Cross Road, Satellite</td>\n",
       "      <td>125.619048</td>\n",
       "      <td>302</td>\n",
       "      <td>3</td>\n",
       "      <td>Multiplex</td>\n",
       "      <td>NaN</td>\n",
       "      <td>23.024940</td>\n",
       "      <td>72.529380</td>\n",
       "      <td>302.0</td>\n",
       "      <td>118.0</td>\n",
       "      <td>3.0</td>\n",
       "      <td>124.00</td>\n",
       "      <td>BookMyShow</td>\n",
       "      <td>NaN</td>\n",
       "    </tr>\n",
       "    <tr>\n",
       "      <th>1</th>\n",
       "      <td>Ahmedabad</td>\n",
       "      <td>Amber Cinema: Ahmedabad</td>\n",
       "      <td>100.833333</td>\n",
       "      <td>763</td>\n",
       "      <td>1</td>\n",
       "      <td>Single Screen</td>\n",
       "      <td>NaN</td>\n",
       "      <td>23.034310</td>\n",
       "      <td>72.620020</td>\n",
       "      <td>763.0</td>\n",
       "      <td>80.0</td>\n",
       "      <td>1.0</td>\n",
       "      <td>98.75</td>\n",
       "      <td>BookMyShow</td>\n",
       "      <td>NaN</td>\n",
       "    </tr>\n",
       "    <tr>\n",
       "      <th>2</th>\n",
       "      <td>Ahmedabad</td>\n",
       "      <td>Anupam Cinema: Ahmedabad</td>\n",
       "      <td>125.833333</td>\n",
       "      <td>781</td>\n",
       "      <td>1</td>\n",
       "      <td>Single Screen</td>\n",
       "      <td>NaN</td>\n",
       "      <td>23.006560</td>\n",
       "      <td>72.613330</td>\n",
       "      <td>781.0</td>\n",
       "      <td>80.0</td>\n",
       "      <td>1.0</td>\n",
       "      <td>121.25</td>\n",
       "      <td>BookMyShow</td>\n",
       "      <td>NaN</td>\n",
       "    </tr>\n",
       "    <tr>\n",
       "      <th>3</th>\n",
       "      <td>Ahmedabad</td>\n",
       "      <td>Apsara Cinema, Behrampura</td>\n",
       "      <td>NaN</td>\n",
       "      <td>1117</td>\n",
       "      <td>1</td>\n",
       "      <td>Single Screen</td>\n",
       "      <td>NaN</td>\n",
       "      <td>23.003974</td>\n",
       "      <td>72.597468</td>\n",
       "      <td>NaN</td>\n",
       "      <td>NaN</td>\n",
       "      <td>NaN</td>\n",
       "      <td>NaN</td>\n",
       "      <td>MediaAnt</td>\n",
       "      <td>NaN</td>\n",
       "    </tr>\n",
       "    <tr>\n",
       "      <th>4</th>\n",
       "      <td>Ahmedabad</td>\n",
       "      <td>Aradhana Cinema, Behrampura</td>\n",
       "      <td>NaN</td>\n",
       "      <td>455</td>\n",
       "      <td>1</td>\n",
       "      <td>Single Screen</td>\n",
       "      <td>NaN</td>\n",
       "      <td>23.003960</td>\n",
       "      <td>72.597520</td>\n",
       "      <td>NaN</td>\n",
       "      <td>NaN</td>\n",
       "      <td>NaN</td>\n",
       "      <td>NaN</td>\n",
       "      <td>MediaAnt</td>\n",
       "      <td>NaN</td>\n",
       "    </tr>\n",
       "  </tbody>\n",
       "</table>\n",
       "</div>"
      ],
      "text/plain": [
       "        city                                    theatre_name  \\\n",
       "0  Ahmedabad  AB Miniplex: Shivranjini Cross Road, Satellite   \n",
       "1  Ahmedabad                         Amber Cinema: Ahmedabad   \n",
       "2  Ahmedabad                        Anupam Cinema: Ahmedabad   \n",
       "3  Ahmedabad                       Apsara Cinema, Behrampura   \n",
       "4  Ahmedabad                     Aradhana Cinema, Behrampura   \n",
       "\n",
       "   average_ticket_price  total_seats  no_screens           type theatre_chain  \\\n",
       "0            125.619048          302           3      Multiplex           NaN   \n",
       "1            100.833333          763           1  Single Screen           NaN   \n",
       "2            125.833333          781           1  Single Screen           NaN   \n",
       "3                   NaN         1117           1  Single Screen           NaN   \n",
       "4                   NaN          455           1  Single Screen           NaN   \n",
       "\n",
       "         lat        lon  calculated_seats  calculated_ticket_prices  \\\n",
       "0  23.024940  72.529380             302.0                     118.0   \n",
       "1  23.034310  72.620020             763.0                      80.0   \n",
       "2  23.006560  72.613330             781.0                      80.0   \n",
       "3  23.003974  72.597468               NaN                       NaN   \n",
       "4  23.003960  72.597520               NaN                       NaN   \n",
       "\n",
       "   calculated_screens  average_2 source_of_information notes  \n",
       "0                 3.0     124.00            BookMyShow   NaN  \n",
       "1                 1.0      98.75            BookMyShow   NaN  \n",
       "2                 1.0     121.25            BookMyShow   NaN  \n",
       "3                 NaN        NaN              MediaAnt   NaN  \n",
       "4                 NaN        NaN              MediaAnt   NaN  "
      ]
     },
     "execution_count": 4,
     "metadata": {},
     "output_type": "execute_result"
    }
   ],
   "source": [
    "df.head()"
   ]
  },
  {
   "cell_type": "code",
   "execution_count": 5,
   "id": "2ff1d792",
   "metadata": {},
   "outputs": [
    {
     "data": {
      "text/plain": [
       "city                          0\n",
       "theatre_name                  0\n",
       "average_ticket_price        176\n",
       "total_seats                   0\n",
       "no_screens                    0\n",
       "type                          0\n",
       "theatre_chain               393\n",
       "lat                           0\n",
       "lon                           0\n",
       "calculated_seats            176\n",
       "calculated_ticket_prices    176\n",
       "calculated_screens          176\n",
       "average_2                   176\n",
       "source_of_information         0\n",
       "notes                       499\n",
       "dtype: int64"
      ]
     },
     "execution_count": 5,
     "metadata": {},
     "output_type": "execute_result"
    }
   ],
   "source": [
    "df.isnull().sum()"
   ]
  },
  {
   "cell_type": "code",
   "execution_count": 6,
   "id": "aeca32c4",
   "metadata": {},
   "outputs": [
    {
     "name": "stdout",
     "output_type": "stream",
     "text": [
      "<class 'pandas.core.frame.DataFrame'>\n",
      "RangeIndex: 578 entries, 0 to 577\n",
      "Data columns (total 15 columns):\n",
      " #   Column                    Non-Null Count  Dtype  \n",
      "---  ------                    --------------  -----  \n",
      " 0   city                      578 non-null    object \n",
      " 1   theatre_name              578 non-null    object \n",
      " 2   average_ticket_price      402 non-null    float64\n",
      " 3   total_seats               578 non-null    int64  \n",
      " 4   no_screens                578 non-null    int64  \n",
      " 5   type                      578 non-null    object \n",
      " 6   theatre_chain             185 non-null    object \n",
      " 7   lat                       578 non-null    float64\n",
      " 8   lon                       578 non-null    float64\n",
      " 9   calculated_seats          402 non-null    float64\n",
      " 10  calculated_ticket_prices  402 non-null    float64\n",
      " 11  calculated_screens        402 non-null    float64\n",
      " 12  average_2                 402 non-null    float64\n",
      " 13  source_of_information     578 non-null    object \n",
      " 14  notes                     79 non-null     object \n",
      "dtypes: float64(7), int64(2), object(6)\n",
      "memory usage: 67.9+ KB\n"
     ]
    }
   ],
   "source": [
    "df.info()"
   ]
  },
  {
   "cell_type": "code",
   "execution_count": 7,
   "id": "2e240237",
   "metadata": {},
   "outputs": [
    {
     "name": "stdout",
     "output_type": "stream",
     "text": [
      "According to the data there are total 15 columns\n",
      "Total categorical columns :  6\n",
      "\n",
      "\n",
      "Categorical column names :  Index(['city', 'theatre_name', 'type', 'theatre_chain',\n",
      "       'source_of_information', 'notes'],\n",
      "      dtype='object')\n",
      "\n",
      "\n",
      "Total numerical columns :  9\n",
      "\n",
      "\n",
      "Numerical column names :  Index(['average_ticket_price', 'total_seats', 'no_screens', 'lat', 'lon',\n",
      "       'calculated_seats', 'calculated_ticket_prices', 'calculated_screens',\n",
      "       'average_2'],\n",
      "      dtype='object')\n"
     ]
    },
    {
     "name": "stderr",
     "output_type": "stream",
     "text": [
      "/var/folders/9l/vt6f2rxn5538q8_4lcq5wd9c0000gn/T/ipykernel_1792/1935576600.py:2: DeprecationWarning: `np.object` is a deprecated alias for the builtin `object`. To silence this warning, use `object` by itself. Doing this will not modify any behavior and is safe. \n",
      "Deprecated in NumPy 1.20; for more details and guidance: https://numpy.org/devdocs/release/1.20.0-notes.html#deprecations\n",
      "  df_cat = df.select_dtypes(include=np.object)\n"
     ]
    }
   ],
   "source": [
    "print(\"According to the data there are total 15 columns\")\n",
    "df_cat = df.select_dtypes(include=np.object)\n",
    "df_num = df.select_dtypes(include=np.number)\n",
    "print('Total categorical columns : ',len(df_cat.columns))\n",
    "print('\\n')\n",
    "print('Categorical column names : ',df_cat.columns)\n",
    "print('\\n')\n",
    "print('Total numerical columns : ',len(df_num.columns))\n",
    "print('\\n')\n",
    "print('Numerical column names : ',df_num.columns)\n"
   ]
  },
  {
   "cell_type": "code",
   "execution_count": 8,
   "id": "5ac8c0b3",
   "metadata": {
    "scrolled": true
   },
   "outputs": [
    {
     "data": {
      "text/html": [
       "<div>\n",
       "<style scoped>\n",
       "    .dataframe tbody tr th:only-of-type {\n",
       "        vertical-align: middle;\n",
       "    }\n",
       "\n",
       "    .dataframe tbody tr th {\n",
       "        vertical-align: top;\n",
       "    }\n",
       "\n",
       "    .dataframe thead th {\n",
       "        text-align: right;\n",
       "    }\n",
       "</style>\n",
       "<table border=\"1\" class=\"dataframe\">\n",
       "  <thead>\n",
       "    <tr style=\"text-align: right;\">\n",
       "      <th></th>\n",
       "      <th>average_ticket_price</th>\n",
       "      <th>total_seats</th>\n",
       "      <th>no_screens</th>\n",
       "      <th>lat</th>\n",
       "      <th>lon</th>\n",
       "      <th>calculated_seats</th>\n",
       "      <th>calculated_ticket_prices</th>\n",
       "      <th>calculated_screens</th>\n",
       "      <th>average_2</th>\n",
       "    </tr>\n",
       "  </thead>\n",
       "  <tbody>\n",
       "    <tr>\n",
       "      <th>count</th>\n",
       "      <td>402.000000</td>\n",
       "      <td>578.000000</td>\n",
       "      <td>578.000000</td>\n",
       "      <td>578.000000</td>\n",
       "      <td>578.000000</td>\n",
       "      <td>402.000000</td>\n",
       "      <td>402.000000</td>\n",
       "      <td>402.000000</td>\n",
       "      <td>402.000000</td>\n",
       "    </tr>\n",
       "    <tr>\n",
       "      <th>mean</th>\n",
       "      <td>168.781990</td>\n",
       "      <td>815.219723</td>\n",
       "      <td>2.062284</td>\n",
       "      <td>17.783690</td>\n",
       "      <td>77.732424</td>\n",
       "      <td>620.074627</td>\n",
       "      <td>138.552751</td>\n",
       "      <td>2.422886</td>\n",
       "      <td>168.841672</td>\n",
       "    </tr>\n",
       "    <tr>\n",
       "      <th>std</th>\n",
       "      <td>131.559966</td>\n",
       "      <td>430.826349</td>\n",
       "      <td>1.813562</td>\n",
       "      <td>4.891071</td>\n",
       "      <td>4.067331</td>\n",
       "      <td>519.621409</td>\n",
       "      <td>84.063571</td>\n",
       "      <td>1.895071</td>\n",
       "      <td>130.433846</td>\n",
       "    </tr>\n",
       "    <tr>\n",
       "      <th>min</th>\n",
       "      <td>0.000000</td>\n",
       "      <td>0.000000</td>\n",
       "      <td>0.000000</td>\n",
       "      <td>9.914258</td>\n",
       "      <td>72.478560</td>\n",
       "      <td>32.000000</td>\n",
       "      <td>0.000000</td>\n",
       "      <td>1.000000</td>\n",
       "      <td>0.000000</td>\n",
       "    </tr>\n",
       "    <tr>\n",
       "      <th>25%</th>\n",
       "      <td>95.366667</td>\n",
       "      <td>528.500000</td>\n",
       "      <td>1.000000</td>\n",
       "      <td>13.011568</td>\n",
       "      <td>76.277899</td>\n",
       "      <td>208.250000</td>\n",
       "      <td>90.000000</td>\n",
       "      <td>1.000000</td>\n",
       "      <td>94.700000</td>\n",
       "    </tr>\n",
       "    <tr>\n",
       "      <th>50%</th>\n",
       "      <td>130.000000</td>\n",
       "      <td>800.000000</td>\n",
       "      <td>1.000000</td>\n",
       "      <td>17.434560</td>\n",
       "      <td>77.595295</td>\n",
       "      <td>444.000000</td>\n",
       "      <td>112.916667</td>\n",
       "      <td>1.000000</td>\n",
       "      <td>131.568182</td>\n",
       "    </tr>\n",
       "    <tr>\n",
       "      <th>75%</th>\n",
       "      <td>197.837121</td>\n",
       "      <td>1027.500000</td>\n",
       "      <td>3.000000</td>\n",
       "      <td>19.202565</td>\n",
       "      <td>78.515160</td>\n",
       "      <td>935.500000</td>\n",
       "      <td>157.805556</td>\n",
       "      <td>4.000000</td>\n",
       "      <td>199.100000</td>\n",
       "    </tr>\n",
       "    <tr>\n",
       "      <th>max</th>\n",
       "      <td>1458.333333</td>\n",
       "      <td>3175.000000</td>\n",
       "      <td>10.000000</td>\n",
       "      <td>28.734690</td>\n",
       "      <td>88.406360</td>\n",
       "      <td>3714.000000</td>\n",
       "      <td>685.000000</td>\n",
       "      <td>9.000000</td>\n",
       "      <td>1412.500000</td>\n",
       "    </tr>\n",
       "  </tbody>\n",
       "</table>\n",
       "</div>"
      ],
      "text/plain": [
       "       average_ticket_price  total_seats  no_screens         lat         lon  \\\n",
       "count            402.000000   578.000000  578.000000  578.000000  578.000000   \n",
       "mean             168.781990   815.219723    2.062284   17.783690   77.732424   \n",
       "std              131.559966   430.826349    1.813562    4.891071    4.067331   \n",
       "min                0.000000     0.000000    0.000000    9.914258   72.478560   \n",
       "25%               95.366667   528.500000    1.000000   13.011568   76.277899   \n",
       "50%              130.000000   800.000000    1.000000   17.434560   77.595295   \n",
       "75%              197.837121  1027.500000    3.000000   19.202565   78.515160   \n",
       "max             1458.333333  3175.000000   10.000000   28.734690   88.406360   \n",
       "\n",
       "       calculated_seats  calculated_ticket_prices  calculated_screens  \\\n",
       "count        402.000000                402.000000          402.000000   \n",
       "mean         620.074627                138.552751            2.422886   \n",
       "std          519.621409                 84.063571            1.895071   \n",
       "min           32.000000                  0.000000            1.000000   \n",
       "25%          208.250000                 90.000000            1.000000   \n",
       "50%          444.000000                112.916667            1.000000   \n",
       "75%          935.500000                157.805556            4.000000   \n",
       "max         3714.000000                685.000000            9.000000   \n",
       "\n",
       "         average_2  \n",
       "count   402.000000  \n",
       "mean    168.841672  \n",
       "std     130.433846  \n",
       "min       0.000000  \n",
       "25%      94.700000  \n",
       "50%     131.568182  \n",
       "75%     199.100000  \n",
       "max    1412.500000  "
      ]
     },
     "execution_count": 8,
     "metadata": {},
     "output_type": "execute_result"
    }
   ],
   "source": [
    "df.describe()"
   ]
  },
  {
   "cell_type": "code",
   "execution_count": null,
   "id": "fed0c7b7",
   "metadata": {},
   "outputs": [],
   "source": []
  },
  {
   "cell_type": "code",
   "execution_count": 9,
   "id": "afb0d8ac",
   "metadata": {},
   "outputs": [],
   "source": [
    "## Dropping columns which are not important in the large data set and with many empty values\n",
    "df = df.drop(['notes','theatre_chain'],axis=1)\n"
   ]
  },
  {
   "cell_type": "markdown",
   "id": "4c692254",
   "metadata": {},
   "source": [
    "Dropped Notes and Theatre_Chain"
   ]
  },
  {
   "cell_type": "code",
   "execution_count": 10,
   "id": "9c2a4972",
   "metadata": {},
   "outputs": [
    {
     "data": {
      "text/plain": [
       "(578, 13)"
      ]
     },
     "execution_count": 10,
     "metadata": {},
     "output_type": "execute_result"
    }
   ],
   "source": [
    "df.shape"
   ]
  },
  {
   "cell_type": "code",
   "execution_count": 26,
   "id": "69d9db83",
   "metadata": {},
   "outputs": [
    {
     "data": {
      "text/html": [
       "<div>\n",
       "<style scoped>\n",
       "    .dataframe tbody tr th:only-of-type {\n",
       "        vertical-align: middle;\n",
       "    }\n",
       "\n",
       "    .dataframe tbody tr th {\n",
       "        vertical-align: top;\n",
       "    }\n",
       "\n",
       "    .dataframe thead th {\n",
       "        text-align: right;\n",
       "    }\n",
       "</style>\n",
       "<table border=\"1\" class=\"dataframe\">\n",
       "  <thead>\n",
       "    <tr style=\"text-align: right;\">\n",
       "      <th></th>\n",
       "      <th>city</th>\n",
       "      <th>theatre_name</th>\n",
       "      <th>average_ticket_price</th>\n",
       "      <th>total_seats</th>\n",
       "      <th>no_screens</th>\n",
       "      <th>type</th>\n",
       "      <th>lat</th>\n",
       "      <th>lon</th>\n",
       "      <th>calculated_seats</th>\n",
       "      <th>calculated_ticket_prices</th>\n",
       "      <th>calculated_screens</th>\n",
       "      <th>average_2</th>\n",
       "      <th>source_of_information</th>\n",
       "    </tr>\n",
       "  </thead>\n",
       "  <tbody>\n",
       "    <tr>\n",
       "      <th>0</th>\n",
       "      <td>Ahmedabad</td>\n",
       "      <td>AB Miniplex: Shivranjini Cross Road, Satellite</td>\n",
       "      <td>125.619048</td>\n",
       "      <td>302</td>\n",
       "      <td>3</td>\n",
       "      <td>Multiplex</td>\n",
       "      <td>23.024940</td>\n",
       "      <td>72.529380</td>\n",
       "      <td>302.0</td>\n",
       "      <td>118.0</td>\n",
       "      <td>3.0</td>\n",
       "      <td>124.00</td>\n",
       "      <td>BookMyShow</td>\n",
       "    </tr>\n",
       "    <tr>\n",
       "      <th>1</th>\n",
       "      <td>Ahmedabad</td>\n",
       "      <td>Amber Cinema: Ahmedabad</td>\n",
       "      <td>100.833333</td>\n",
       "      <td>763</td>\n",
       "      <td>1</td>\n",
       "      <td>Single Screen</td>\n",
       "      <td>23.034310</td>\n",
       "      <td>72.620020</td>\n",
       "      <td>763.0</td>\n",
       "      <td>80.0</td>\n",
       "      <td>1.0</td>\n",
       "      <td>98.75</td>\n",
       "      <td>BookMyShow</td>\n",
       "    </tr>\n",
       "    <tr>\n",
       "      <th>2</th>\n",
       "      <td>Ahmedabad</td>\n",
       "      <td>Anupam Cinema: Ahmedabad</td>\n",
       "      <td>125.833333</td>\n",
       "      <td>781</td>\n",
       "      <td>1</td>\n",
       "      <td>Single Screen</td>\n",
       "      <td>23.006560</td>\n",
       "      <td>72.613330</td>\n",
       "      <td>781.0</td>\n",
       "      <td>80.0</td>\n",
       "      <td>1.0</td>\n",
       "      <td>121.25</td>\n",
       "      <td>BookMyShow</td>\n",
       "    </tr>\n",
       "    <tr>\n",
       "      <th>3</th>\n",
       "      <td>Ahmedabad</td>\n",
       "      <td>Apsara Cinema, Behrampura</td>\n",
       "      <td>NaN</td>\n",
       "      <td>1117</td>\n",
       "      <td>1</td>\n",
       "      <td>Single Screen</td>\n",
       "      <td>23.003974</td>\n",
       "      <td>72.597468</td>\n",
       "      <td>NaN</td>\n",
       "      <td>NaN</td>\n",
       "      <td>NaN</td>\n",
       "      <td>NaN</td>\n",
       "      <td>MediaAnt</td>\n",
       "    </tr>\n",
       "    <tr>\n",
       "      <th>4</th>\n",
       "      <td>Ahmedabad</td>\n",
       "      <td>Aradhana Cinema, Behrampura</td>\n",
       "      <td>NaN</td>\n",
       "      <td>455</td>\n",
       "      <td>1</td>\n",
       "      <td>Single Screen</td>\n",
       "      <td>23.003960</td>\n",
       "      <td>72.597520</td>\n",
       "      <td>NaN</td>\n",
       "      <td>NaN</td>\n",
       "      <td>NaN</td>\n",
       "      <td>NaN</td>\n",
       "      <td>MediaAnt</td>\n",
       "    </tr>\n",
       "  </tbody>\n",
       "</table>\n",
       "</div>"
      ],
      "text/plain": [
       "        city                                    theatre_name  \\\n",
       "0  Ahmedabad  AB Miniplex: Shivranjini Cross Road, Satellite   \n",
       "1  Ahmedabad                         Amber Cinema: Ahmedabad   \n",
       "2  Ahmedabad                        Anupam Cinema: Ahmedabad   \n",
       "3  Ahmedabad                       Apsara Cinema, Behrampura   \n",
       "4  Ahmedabad                     Aradhana Cinema, Behrampura   \n",
       "\n",
       "   average_ticket_price  total_seats  no_screens           type        lat  \\\n",
       "0            125.619048          302           3      Multiplex  23.024940   \n",
       "1            100.833333          763           1  Single Screen  23.034310   \n",
       "2            125.833333          781           1  Single Screen  23.006560   \n",
       "3                   NaN         1117           1  Single Screen  23.003974   \n",
       "4                   NaN          455           1  Single Screen  23.003960   \n",
       "\n",
       "         lon  calculated_seats  calculated_ticket_prices  calculated_screens  \\\n",
       "0  72.529380             302.0                     118.0                 3.0   \n",
       "1  72.620020             763.0                      80.0                 1.0   \n",
       "2  72.613330             781.0                      80.0                 1.0   \n",
       "3  72.597468               NaN                       NaN                 NaN   \n",
       "4  72.597520               NaN                       NaN                 NaN   \n",
       "\n",
       "   average_2 source_of_information  \n",
       "0     124.00            BookMyShow  \n",
       "1      98.75            BookMyShow  \n",
       "2     121.25            BookMyShow  \n",
       "3        NaN              MediaAnt  \n",
       "4        NaN              MediaAnt  "
      ]
     },
     "execution_count": 26,
     "metadata": {},
     "output_type": "execute_result"
    }
   ],
   "source": [
    "df.head()"
   ]
  },
  {
   "cell_type": "code",
   "execution_count": 12,
   "id": "2c7ebcdd",
   "metadata": {
    "scrolled": true
   },
   "outputs": [
    {
     "data": {
      "text/plain": [
       "578"
      ]
     },
     "execution_count": 12,
     "metadata": {},
     "output_type": "execute_result"
    }
   ],
   "source": [
    "df['theatre_name'].nunique()"
   ]
  },
  {
   "cell_type": "code",
   "execution_count": 13,
   "id": "d4d77579",
   "metadata": {
    "scrolled": true
   },
   "outputs": [
    {
     "data": {
      "text/plain": [
       "2"
      ]
     },
     "execution_count": 13,
     "metadata": {},
     "output_type": "execute_result"
    }
   ],
   "source": [
    "df['type'].nunique()"
   ]
  },
  {
   "cell_type": "code",
   "execution_count": 14,
   "id": "d13e12d4",
   "metadata": {},
   "outputs": [
    {
     "data": {
      "text/plain": [
       "6"
      ]
     },
     "execution_count": 14,
     "metadata": {},
     "output_type": "execute_result"
    }
   ],
   "source": [
    "df['source_of_information'].nunique()"
   ]
  },
  {
   "cell_type": "code",
   "execution_count": 15,
   "id": "2e0a7d94",
   "metadata": {},
   "outputs": [
    {
     "data": {
      "text/plain": [
       "242"
      ]
     },
     "execution_count": 15,
     "metadata": {},
     "output_type": "execute_result"
    }
   ],
   "source": [
    "df['average_ticket_price'].nunique()"
   ]
  },
  {
   "cell_type": "code",
   "execution_count": 17,
   "id": "11a318a6",
   "metadata": {},
   "outputs": [
    {
     "data": {
      "text/plain": [
       "336"
      ]
     },
     "execution_count": 17,
     "metadata": {},
     "output_type": "execute_result"
    }
   ],
   "source": [
    "df['calculated_seats'].nunique()"
   ]
  },
  {
   "cell_type": "code",
   "execution_count": 18,
   "id": "388bc0be",
   "metadata": {},
   "outputs": [
    {
     "data": {
      "text/plain": [
       "154"
      ]
     },
     "execution_count": 18,
     "metadata": {},
     "output_type": "execute_result"
    }
   ],
   "source": [
    "df['calculated_ticket_prices'].nunique()"
   ]
  },
  {
   "cell_type": "code",
   "execution_count": 19,
   "id": "bc3e9f72",
   "metadata": {
    "scrolled": true
   },
   "outputs": [
    {
     "data": {
      "text/plain": [
       "233"
      ]
     },
     "execution_count": 19,
     "metadata": {},
     "output_type": "execute_result"
    }
   ],
   "source": [
    "df['average_2'].nunique()"
   ]
  },
  {
   "cell_type": "code",
   "execution_count": 58,
   "id": "e396f250",
   "metadata": {},
   "outputs": [
    {
     "data": {
      "text/plain": [
       "city                          0\n",
       "theatre_name                  0\n",
       "average_ticket_price        578\n",
       "total_seats                   0\n",
       "no_screens                    0\n",
       "type                          0\n",
       "lat                           0\n",
       "lon                           0\n",
       "calculated_seats            578\n",
       "calculated_ticket_prices    578\n",
       "calculated_screens          578\n",
       "average_2                   578\n",
       "source_of_information         0\n",
       "dtype: int64"
      ]
     },
     "execution_count": 58,
     "metadata": {},
     "output_type": "execute_result"
    }
   ],
   "source": [
    "df.isnull().sum()"
   ]
  },
  {
   "cell_type": "markdown",
   "id": "a942a238",
   "metadata": {},
   "source": [
    "### There seems to be many unique values for average ticket price, calculated seats, calculated ticket prices and average 2"
   ]
  },
  {
   "cell_type": "markdown",
   "id": "058c6eff",
   "metadata": {},
   "source": [
    "In order to fill the missing values for avergae ticket price, calculated seats, calculated ticket prices, average_2. We will use the median values."
   ]
  },
  {
   "cell_type": "markdown",
   "id": "a56b9744",
   "metadata": {},
   "source": [
    "#### Convert all empty values to NaN Values"
   ]
  },
  {
   "cell_type": "code",
   "execution_count": 31,
   "id": "0e30b44f",
   "metadata": {},
   "outputs": [],
   "source": [
    "# Change all the empty values to NaN Values in average ticket price\n",
    "df['average_ticket_price'] = pd.to_numeric(df['average_ticket_price'],errors='coerce')\n"
   ]
  },
  {
   "cell_type": "code",
   "execution_count": 33,
   "id": "7ceae6bc",
   "metadata": {},
   "outputs": [],
   "source": [
    "# Change all the empty valyes to NaN Values in calculated seats\n",
    "df['calculated_seats'] = pd.to_numeric(df['calculated_seats'],errors='coerce')"
   ]
  },
  {
   "cell_type": "code",
   "execution_count": 35,
   "id": "e93694ab",
   "metadata": {},
   "outputs": [],
   "source": [
    "# Change all the empty values to NaN Values in Calculated Ticket Prices\n",
    "df['calculated_ticket_prices'] = pd.to_numeric(df['calculated_ticket_prices'],errors='coerce')"
   ]
  },
  {
   "cell_type": "code",
   "execution_count": 37,
   "id": "dc869459",
   "metadata": {},
   "outputs": [],
   "source": [
    "# Change all the empty values to NaN Values in Calculated Screens\n",
    "df['calculated_screens'] = pd.to_numeric(df['calculated_screens'],errors='coerce')"
   ]
  },
  {
   "cell_type": "code",
   "execution_count": 40,
   "id": "0cd99c72",
   "metadata": {},
   "outputs": [],
   "source": [
    "# Change all the empty values to NaN values in average_2\n",
    "df['average_2'] = pd.to_numeric(df['average_2'],errors='coerce')"
   ]
  },
  {
   "cell_type": "code",
   "execution_count": 57,
   "id": "bb810a09",
   "metadata": {},
   "outputs": [
    {
     "data": {
      "text/plain": [
       "city                          0\n",
       "theatre_name                  0\n",
       "average_ticket_price        578\n",
       "total_seats                   0\n",
       "no_screens                    0\n",
       "type                          0\n",
       "lat                           0\n",
       "lon                           0\n",
       "calculated_seats            578\n",
       "calculated_ticket_prices    578\n",
       "calculated_screens          578\n",
       "average_2                   578\n",
       "source_of_information         0\n",
       "dtype: int64"
      ]
     },
     "execution_count": 57,
     "metadata": {},
     "output_type": "execute_result"
    }
   ],
   "source": [
    "df.isnull().sum()"
   ]
  },
  {
   "cell_type": "markdown",
   "id": "5574e1e0",
   "metadata": {},
   "source": [
    "#### Fill all empty values with median"
   ]
  },
  {
   "cell_type": "code",
   "execution_count": 53,
   "id": "87a10834",
   "metadata": {},
   "outputs": [],
   "source": [
    "df['average_ticket_price'] = df['average_ticket_price'].fillna(df['average_ticket_price'].median(),inplace=True)"
   ]
  },
  {
   "cell_type": "code",
   "execution_count": 44,
   "id": "59592952",
   "metadata": {},
   "outputs": [],
   "source": [
    "df['calculated_seats'] = df['calculated_seats'].fillna(df['calculated_seats'].median(),inplace=True)"
   ]
  },
  {
   "cell_type": "code",
   "execution_count": 45,
   "id": "2eb460b5",
   "metadata": {},
   "outputs": [],
   "source": [
    "df['calculated_ticket_prices'] = df['calculated_ticket_prices'].fillna(df['calculated_ticket_prices'].median(),inplace=True)"
   ]
  },
  {
   "cell_type": "code",
   "execution_count": 46,
   "id": "71e7555e",
   "metadata": {},
   "outputs": [],
   "source": [
    "df['calculated_screens'] = df['calculated_screens'].fillna(df['calculated_screens'].median(),inplace=True)"
   ]
  },
  {
   "cell_type": "code",
   "execution_count": 47,
   "id": "f77e5a93",
   "metadata": {},
   "outputs": [],
   "source": [
    "df['average_2'] = df['average_2'].fillna(df['average_2'].median(),inplace=True)"
   ]
  },
  {
   "cell_type": "markdown",
   "id": "ff68204d",
   "metadata": {},
   "source": [
    "#### Change Data Type to Integer "
   ]
  },
  {
   "cell_type": "code",
   "execution_count": 51,
   "id": "d9ceb1f2",
   "metadata": {},
   "outputs": [
    {
     "name": "stdout",
     "output_type": "stream",
     "text": [
      "<class 'pandas.core.frame.DataFrame'>\n",
      "RangeIndex: 578 entries, 0 to 577\n",
      "Data columns (total 13 columns):\n",
      " #   Column                    Non-Null Count  Dtype  \n",
      "---  ------                    --------------  -----  \n",
      " 0   city                      578 non-null    object \n",
      " 1   theatre_name              578 non-null    object \n",
      " 2   average_ticket_price      0 non-null      object \n",
      " 3   total_seats               578 non-null    int64  \n",
      " 4   no_screens                578 non-null    int64  \n",
      " 5   type                      578 non-null    object \n",
      " 6   lat                       578 non-null    float64\n",
      " 7   lon                       578 non-null    float64\n",
      " 8   calculated_seats          0 non-null      object \n",
      " 9   calculated_ticket_prices  0 non-null      object \n",
      " 10  calculated_screens        0 non-null      object \n",
      " 11  average_2                 0 non-null      object \n",
      " 12  source_of_information     578 non-null    object \n",
      "dtypes: float64(2), int64(2), object(9)\n",
      "memory usage: 58.8+ KB\n"
     ]
    }
   ],
   "source": [
    "df.info()"
   ]
  },
  {
   "cell_type": "code",
   "execution_count": 54,
   "id": "41ecb049",
   "metadata": {},
   "outputs": [],
   "source": [
    "df = df.convert_dtypes()"
   ]
  },
  {
   "cell_type": "code",
   "execution_count": 55,
   "id": "92e83270",
   "metadata": {},
   "outputs": [
    {
     "name": "stdout",
     "output_type": "stream",
     "text": [
      "<class 'pandas.core.frame.DataFrame'>\n",
      "RangeIndex: 578 entries, 0 to 577\n",
      "Data columns (total 13 columns):\n",
      " #   Column                    Non-Null Count  Dtype  \n",
      "---  ------                    --------------  -----  \n",
      " 0   city                      578 non-null    string \n",
      " 1   theatre_name              578 non-null    string \n",
      " 2   average_ticket_price      0 non-null      object \n",
      " 3   total_seats               578 non-null    Int64  \n",
      " 4   no_screens                578 non-null    Int64  \n",
      " 5   type                      578 non-null    string \n",
      " 6   lat                       578 non-null    Float64\n",
      " 7   lon                       578 non-null    Float64\n",
      " 8   calculated_seats          0 non-null      object \n",
      " 9   calculated_ticket_prices  0 non-null      object \n",
      " 10  calculated_screens        0 non-null      object \n",
      " 11  average_2                 0 non-null      object \n",
      " 12  source_of_information     578 non-null    string \n",
      "dtypes: Float64(2), Int64(2), object(5), string(4)\n",
      "memory usage: 61.1+ KB\n"
     ]
    }
   ],
   "source": [
    "df.info()"
   ]
  },
  {
   "cell_type": "code",
   "execution_count": 56,
   "id": "25acdb97",
   "metadata": {},
   "outputs": [
    {
     "data": {
      "text/plain": [
       "city                          0\n",
       "theatre_name                  0\n",
       "average_ticket_price        578\n",
       "total_seats                   0\n",
       "no_screens                    0\n",
       "type                          0\n",
       "lat                           0\n",
       "lon                           0\n",
       "calculated_seats            578\n",
       "calculated_ticket_prices    578\n",
       "calculated_screens          578\n",
       "average_2                   578\n",
       "source_of_information         0\n",
       "dtype: int64"
      ]
     },
     "execution_count": 56,
     "metadata": {},
     "output_type": "execute_result"
    }
   ],
   "source": [
    "df.isnull().sum()"
   ]
  },
  {
   "cell_type": "code",
   "execution_count": null,
   "id": "0ad46dc2",
   "metadata": {},
   "outputs": [],
   "source": []
  },
  {
   "cell_type": "code",
   "execution_count": null,
   "id": "b8d57a34",
   "metadata": {},
   "outputs": [],
   "source": []
  }
 ],
 "metadata": {
  "kernelspec": {
   "display_name": "Python 3 (ipykernel)",
   "language": "python",
   "name": "python3"
  },
  "language_info": {
   "codemirror_mode": {
    "name": "ipython",
    "version": 3
   },
   "file_extension": ".py",
   "mimetype": "text/x-python",
   "name": "python",
   "nbconvert_exporter": "python",
   "pygments_lexer": "ipython3",
   "version": "3.10.9"
  }
 },
 "nbformat": 4,
 "nbformat_minor": 5
}
