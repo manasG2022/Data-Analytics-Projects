{
 "cells": [
  {
   "cell_type": "markdown",
   "id": "dde6296d",
   "metadata": {},
   "source": [
    "Objectives: Airline Industry is highly capital intensive in nature. With many factors affecting its profitability. The airline requires a certain certainity with regards to cash flow and revenue. This can be done by increasing customer loyalty to an airlines in teh form of frequent flyer program or other rewards program. We have to looak what are the factors which are important in order to increase customer loyalty. "
   ]
  },
  {
   "cell_type": "markdown",
   "id": "b01dfcd2",
   "metadata": {},
   "source": [
    "Tables"
   ]
  },
  {
   "cell_type": "markdown",
   "id": "5632e132",
   "metadata": {},
   "source": [
    "Loyalty Number: Customers Unique Loyalty Number\n",
    "\n",
    "Year: Year of the Period\n",
    "\n",
    "Month: Month of the Period\n",
    "\n",
    "Flights Booked: Number of Flights Booked for member only in the period\n",
    "\n",
    "Flights with Companion: Number of Flights Booked with additional passengers in the period\n",
    "\n",
    "Total Flights: Sum of Flights Booked and Flights with Companions\n",
    "\n",
    "Distance: Flight Distance Traveled in the Period(Km)\n",
    "\n",
    "Points Accumulated: Loyalty Points Accumulated in the period\n",
    "\n",
    "Points Redeemed: Loyalty Points redeemed in the period\n",
    "\n",
    "Dollar Cost Points Redeemed: Dollar Equivalent for points redeemed in the period in CDN\n",
    "\n",
    "Country: Country of Residence\n",
    "\n",
    "Province: Province of Residence\n",
    "\n",
    "City: City of Residence\n",
    "\n",
    "Postal Code: Postal code of residence\n",
    "\n",
    "Gender: Gender\n",
    "\n",
    "Education: Highest Education Level(High School or Lower > College> Bachelor>Master>Doctor)\n",
    "\n",
    "Salary: Annual Income\n",
    "\n",
    "Marital Status: Marital Status(Single, Married, Divorced)\n",
    "\n",
    "Loyalty Card: Loyalty Card Status(Star > Nova > Aurora )\n",
    "\n",
    "CLV: Customer Lifetime Value - Total Invoice Value for all flights ever booked by member\n",
    "\n",
    "Enrollment Type: Enrollment Type(Standard/ Type 2018 Promotion)\n",
    "\n",
    "Enrollment Year: Year Member Enrolled in membership program\n",
    "\n",
    "Enrollment Month: Month Member enrolled in membership program\n",
    "\n",
    "Cancellation Year: Year Cancelled their membership\n",
    "\n",
    "Cancellation Month: Month Member Cancelled their membership\n"
   ]
  },
  {
   "cell_type": "code",
   "execution_count": null,
   "id": "621df225",
   "metadata": {},
   "outputs": [],
   "source": []
  },
  {
   "cell_type": "code",
   "execution_count": 312,
   "id": "27c377ae",
   "metadata": {},
   "outputs": [],
   "source": [
    "import pandas as pd\n",
    "import numpy as np\n",
    "import seaborn as sns\n",
    "import matplotlib.pyplot as plt"
   ]
  },
  {
   "cell_type": "code",
   "execution_count": 313,
   "id": "e59b17ec",
   "metadata": {},
   "outputs": [],
   "source": [
    "df1 = pd.read_csv('Customer Flight Activity.csv')"
   ]
  },
  {
   "cell_type": "code",
   "execution_count": 314,
   "id": "f7a56677",
   "metadata": {},
   "outputs": [],
   "source": [
    "df2 = pd.read_csv('Customer Loyalty History.csv')"
   ]
  },
  {
   "cell_type": "code",
   "execution_count": 315,
   "id": "d28fdac3",
   "metadata": {},
   "outputs": [
    {
     "data": {
      "text/html": [
       "<div>\n",
       "<style scoped>\n",
       "    .dataframe tbody tr th:only-of-type {\n",
       "        vertical-align: middle;\n",
       "    }\n",
       "\n",
       "    .dataframe tbody tr th {\n",
       "        vertical-align: top;\n",
       "    }\n",
       "\n",
       "    .dataframe thead th {\n",
       "        text-align: right;\n",
       "    }\n",
       "</style>\n",
       "<table border=\"1\" class=\"dataframe\">\n",
       "  <thead>\n",
       "    <tr style=\"text-align: right;\">\n",
       "      <th></th>\n",
       "      <th>Loyalty Number</th>\n",
       "      <th>Year</th>\n",
       "      <th>Month</th>\n",
       "      <th>Flights Booked</th>\n",
       "      <th>Flights with Companions</th>\n",
       "      <th>Total Flights</th>\n",
       "      <th>Distance</th>\n",
       "      <th>Points Accumulated</th>\n",
       "      <th>Points Redeemed</th>\n",
       "      <th>Dollar Cost Points Redeemed</th>\n",
       "    </tr>\n",
       "  </thead>\n",
       "  <tbody>\n",
       "    <tr>\n",
       "      <th>0</th>\n",
       "      <td>100018</td>\n",
       "      <td>2017</td>\n",
       "      <td>1</td>\n",
       "      <td>3</td>\n",
       "      <td>0</td>\n",
       "      <td>3</td>\n",
       "      <td>1521</td>\n",
       "      <td>152.0</td>\n",
       "      <td>0</td>\n",
       "      <td>0</td>\n",
       "    </tr>\n",
       "    <tr>\n",
       "      <th>1</th>\n",
       "      <td>100102</td>\n",
       "      <td>2017</td>\n",
       "      <td>1</td>\n",
       "      <td>10</td>\n",
       "      <td>4</td>\n",
       "      <td>14</td>\n",
       "      <td>2030</td>\n",
       "      <td>203.0</td>\n",
       "      <td>0</td>\n",
       "      <td>0</td>\n",
       "    </tr>\n",
       "    <tr>\n",
       "      <th>2</th>\n",
       "      <td>100140</td>\n",
       "      <td>2017</td>\n",
       "      <td>1</td>\n",
       "      <td>6</td>\n",
       "      <td>0</td>\n",
       "      <td>6</td>\n",
       "      <td>1200</td>\n",
       "      <td>120.0</td>\n",
       "      <td>0</td>\n",
       "      <td>0</td>\n",
       "    </tr>\n",
       "    <tr>\n",
       "      <th>3</th>\n",
       "      <td>100214</td>\n",
       "      <td>2017</td>\n",
       "      <td>1</td>\n",
       "      <td>0</td>\n",
       "      <td>0</td>\n",
       "      <td>0</td>\n",
       "      <td>0</td>\n",
       "      <td>0.0</td>\n",
       "      <td>0</td>\n",
       "      <td>0</td>\n",
       "    </tr>\n",
       "    <tr>\n",
       "      <th>4</th>\n",
       "      <td>100272</td>\n",
       "      <td>2017</td>\n",
       "      <td>1</td>\n",
       "      <td>0</td>\n",
       "      <td>0</td>\n",
       "      <td>0</td>\n",
       "      <td>0</td>\n",
       "      <td>0.0</td>\n",
       "      <td>0</td>\n",
       "      <td>0</td>\n",
       "    </tr>\n",
       "  </tbody>\n",
       "</table>\n",
       "</div>"
      ],
      "text/plain": [
       "   Loyalty Number  Year  Month  Flights Booked  Flights with Companions  \\\n",
       "0          100018  2017      1               3                        0   \n",
       "1          100102  2017      1              10                        4   \n",
       "2          100140  2017      1               6                        0   \n",
       "3          100214  2017      1               0                        0   \n",
       "4          100272  2017      1               0                        0   \n",
       "\n",
       "   Total Flights  Distance  Points Accumulated  Points Redeemed  \\\n",
       "0              3      1521               152.0                0   \n",
       "1             14      2030               203.0                0   \n",
       "2              6      1200               120.0                0   \n",
       "3              0         0                 0.0                0   \n",
       "4              0         0                 0.0                0   \n",
       "\n",
       "   Dollar Cost Points Redeemed  \n",
       "0                            0  \n",
       "1                            0  \n",
       "2                            0  \n",
       "3                            0  \n",
       "4                            0  "
      ]
     },
     "execution_count": 315,
     "metadata": {},
     "output_type": "execute_result"
    }
   ],
   "source": [
    "df1.head()"
   ]
  },
  {
   "cell_type": "code",
   "execution_count": 316,
   "id": "b5ba6f3d",
   "metadata": {},
   "outputs": [
    {
     "data": {
      "text/html": [
       "<div>\n",
       "<style scoped>\n",
       "    .dataframe tbody tr th:only-of-type {\n",
       "        vertical-align: middle;\n",
       "    }\n",
       "\n",
       "    .dataframe tbody tr th {\n",
       "        vertical-align: top;\n",
       "    }\n",
       "\n",
       "    .dataframe thead th {\n",
       "        text-align: right;\n",
       "    }\n",
       "</style>\n",
       "<table border=\"1\" class=\"dataframe\">\n",
       "  <thead>\n",
       "    <tr style=\"text-align: right;\">\n",
       "      <th></th>\n",
       "      <th>Loyalty Number</th>\n",
       "      <th>Country</th>\n",
       "      <th>Province</th>\n",
       "      <th>City</th>\n",
       "      <th>Postal Code</th>\n",
       "      <th>Gender</th>\n",
       "      <th>Education</th>\n",
       "      <th>Salary</th>\n",
       "      <th>Marital Status</th>\n",
       "      <th>Loyalty Card</th>\n",
       "      <th>CLV</th>\n",
       "      <th>Enrollment Type</th>\n",
       "      <th>Enrollment Year</th>\n",
       "      <th>Enrollment Month</th>\n",
       "      <th>Cancellation Year</th>\n",
       "      <th>Cancellation Month</th>\n",
       "    </tr>\n",
       "  </thead>\n",
       "  <tbody>\n",
       "    <tr>\n",
       "      <th>0</th>\n",
       "      <td>480934</td>\n",
       "      <td>Canada</td>\n",
       "      <td>Ontario</td>\n",
       "      <td>Toronto</td>\n",
       "      <td>M2Z 4K1</td>\n",
       "      <td>Female</td>\n",
       "      <td>Bachelor</td>\n",
       "      <td>83236.0</td>\n",
       "      <td>Married</td>\n",
       "      <td>Star</td>\n",
       "      <td>3839.14</td>\n",
       "      <td>Standard</td>\n",
       "      <td>2016</td>\n",
       "      <td>2</td>\n",
       "      <td>NaN</td>\n",
       "      <td>NaN</td>\n",
       "    </tr>\n",
       "    <tr>\n",
       "      <th>1</th>\n",
       "      <td>549612</td>\n",
       "      <td>Canada</td>\n",
       "      <td>Alberta</td>\n",
       "      <td>Edmonton</td>\n",
       "      <td>T3G 6Y6</td>\n",
       "      <td>Male</td>\n",
       "      <td>College</td>\n",
       "      <td>NaN</td>\n",
       "      <td>Divorced</td>\n",
       "      <td>Star</td>\n",
       "      <td>3839.61</td>\n",
       "      <td>Standard</td>\n",
       "      <td>2016</td>\n",
       "      <td>3</td>\n",
       "      <td>NaN</td>\n",
       "      <td>NaN</td>\n",
       "    </tr>\n",
       "    <tr>\n",
       "      <th>2</th>\n",
       "      <td>429460</td>\n",
       "      <td>Canada</td>\n",
       "      <td>British Columbia</td>\n",
       "      <td>Vancouver</td>\n",
       "      <td>V6E 3D9</td>\n",
       "      <td>Male</td>\n",
       "      <td>College</td>\n",
       "      <td>NaN</td>\n",
       "      <td>Single</td>\n",
       "      <td>Star</td>\n",
       "      <td>3839.75</td>\n",
       "      <td>Standard</td>\n",
       "      <td>2014</td>\n",
       "      <td>7</td>\n",
       "      <td>2018.0</td>\n",
       "      <td>1.0</td>\n",
       "    </tr>\n",
       "    <tr>\n",
       "      <th>3</th>\n",
       "      <td>608370</td>\n",
       "      <td>Canada</td>\n",
       "      <td>Ontario</td>\n",
       "      <td>Toronto</td>\n",
       "      <td>P1W 1K4</td>\n",
       "      <td>Male</td>\n",
       "      <td>College</td>\n",
       "      <td>NaN</td>\n",
       "      <td>Single</td>\n",
       "      <td>Star</td>\n",
       "      <td>3839.75</td>\n",
       "      <td>Standard</td>\n",
       "      <td>2013</td>\n",
       "      <td>2</td>\n",
       "      <td>NaN</td>\n",
       "      <td>NaN</td>\n",
       "    </tr>\n",
       "    <tr>\n",
       "      <th>4</th>\n",
       "      <td>530508</td>\n",
       "      <td>Canada</td>\n",
       "      <td>Quebec</td>\n",
       "      <td>Hull</td>\n",
       "      <td>J8Y 3Z5</td>\n",
       "      <td>Male</td>\n",
       "      <td>Bachelor</td>\n",
       "      <td>103495.0</td>\n",
       "      <td>Married</td>\n",
       "      <td>Star</td>\n",
       "      <td>3842.79</td>\n",
       "      <td>Standard</td>\n",
       "      <td>2014</td>\n",
       "      <td>10</td>\n",
       "      <td>NaN</td>\n",
       "      <td>NaN</td>\n",
       "    </tr>\n",
       "  </tbody>\n",
       "</table>\n",
       "</div>"
      ],
      "text/plain": [
       "   Loyalty Number Country          Province       City Postal Code  Gender  \\\n",
       "0          480934  Canada           Ontario    Toronto     M2Z 4K1  Female   \n",
       "1          549612  Canada           Alberta   Edmonton     T3G 6Y6    Male   \n",
       "2          429460  Canada  British Columbia  Vancouver     V6E 3D9    Male   \n",
       "3          608370  Canada           Ontario    Toronto     P1W 1K4    Male   \n",
       "4          530508  Canada            Quebec       Hull     J8Y 3Z5    Male   \n",
       "\n",
       "  Education    Salary Marital Status Loyalty Card      CLV Enrollment Type  \\\n",
       "0  Bachelor   83236.0        Married         Star  3839.14        Standard   \n",
       "1   College       NaN       Divorced         Star  3839.61        Standard   \n",
       "2   College       NaN         Single         Star  3839.75        Standard   \n",
       "3   College       NaN         Single         Star  3839.75        Standard   \n",
       "4  Bachelor  103495.0        Married         Star  3842.79        Standard   \n",
       "\n",
       "   Enrollment Year  Enrollment Month  Cancellation Year  Cancellation Month  \n",
       "0             2016                 2                NaN                 NaN  \n",
       "1             2016                 3                NaN                 NaN  \n",
       "2             2014                 7             2018.0                 1.0  \n",
       "3             2013                 2                NaN                 NaN  \n",
       "4             2014                10                NaN                 NaN  "
      ]
     },
     "execution_count": 316,
     "metadata": {},
     "output_type": "execute_result"
    }
   ],
   "source": [
    "df2.head()"
   ]
  },
  {
   "cell_type": "code",
   "execution_count": 317,
   "id": "e1010654",
   "metadata": {},
   "outputs": [],
   "source": [
    "### Merge Dataframe\n",
    "m_df = pd.merge(df1,df2,on = 'Loyalty Number')"
   ]
  },
  {
   "cell_type": "code",
   "execution_count": 318,
   "id": "4693efb1",
   "metadata": {},
   "outputs": [
    {
     "data": {
      "text/html": [
       "<div>\n",
       "<style scoped>\n",
       "    .dataframe tbody tr th:only-of-type {\n",
       "        vertical-align: middle;\n",
       "    }\n",
       "\n",
       "    .dataframe tbody tr th {\n",
       "        vertical-align: top;\n",
       "    }\n",
       "\n",
       "    .dataframe thead th {\n",
       "        text-align: right;\n",
       "    }\n",
       "</style>\n",
       "<table border=\"1\" class=\"dataframe\">\n",
       "  <thead>\n",
       "    <tr style=\"text-align: right;\">\n",
       "      <th></th>\n",
       "      <th>Loyalty Number</th>\n",
       "      <th>Year</th>\n",
       "      <th>Month</th>\n",
       "      <th>Flights Booked</th>\n",
       "      <th>Flights with Companions</th>\n",
       "      <th>Total Flights</th>\n",
       "      <th>Distance</th>\n",
       "      <th>Points Accumulated</th>\n",
       "      <th>Points Redeemed</th>\n",
       "      <th>Dollar Cost Points Redeemed</th>\n",
       "      <th>...</th>\n",
       "      <th>Education</th>\n",
       "      <th>Salary</th>\n",
       "      <th>Marital Status</th>\n",
       "      <th>Loyalty Card</th>\n",
       "      <th>CLV</th>\n",
       "      <th>Enrollment Type</th>\n",
       "      <th>Enrollment Year</th>\n",
       "      <th>Enrollment Month</th>\n",
       "      <th>Cancellation Year</th>\n",
       "      <th>Cancellation Month</th>\n",
       "    </tr>\n",
       "  </thead>\n",
       "  <tbody>\n",
       "    <tr>\n",
       "      <th>0</th>\n",
       "      <td>100018</td>\n",
       "      <td>2017</td>\n",
       "      <td>1</td>\n",
       "      <td>3</td>\n",
       "      <td>0</td>\n",
       "      <td>3</td>\n",
       "      <td>1521</td>\n",
       "      <td>152.0</td>\n",
       "      <td>0</td>\n",
       "      <td>0</td>\n",
       "      <td>...</td>\n",
       "      <td>Bachelor</td>\n",
       "      <td>92552.0</td>\n",
       "      <td>Married</td>\n",
       "      <td>Aurora</td>\n",
       "      <td>7919.2</td>\n",
       "      <td>Standard</td>\n",
       "      <td>2016</td>\n",
       "      <td>8</td>\n",
       "      <td>NaN</td>\n",
       "      <td>NaN</td>\n",
       "    </tr>\n",
       "    <tr>\n",
       "      <th>1</th>\n",
       "      <td>100018</td>\n",
       "      <td>2017</td>\n",
       "      <td>2</td>\n",
       "      <td>2</td>\n",
       "      <td>2</td>\n",
       "      <td>4</td>\n",
       "      <td>1320</td>\n",
       "      <td>132.0</td>\n",
       "      <td>0</td>\n",
       "      <td>0</td>\n",
       "      <td>...</td>\n",
       "      <td>Bachelor</td>\n",
       "      <td>92552.0</td>\n",
       "      <td>Married</td>\n",
       "      <td>Aurora</td>\n",
       "      <td>7919.2</td>\n",
       "      <td>Standard</td>\n",
       "      <td>2016</td>\n",
       "      <td>8</td>\n",
       "      <td>NaN</td>\n",
       "      <td>NaN</td>\n",
       "    </tr>\n",
       "    <tr>\n",
       "      <th>2</th>\n",
       "      <td>100018</td>\n",
       "      <td>2018</td>\n",
       "      <td>10</td>\n",
       "      <td>6</td>\n",
       "      <td>4</td>\n",
       "      <td>10</td>\n",
       "      <td>3110</td>\n",
       "      <td>311.0</td>\n",
       "      <td>385</td>\n",
       "      <td>31</td>\n",
       "      <td>...</td>\n",
       "      <td>Bachelor</td>\n",
       "      <td>92552.0</td>\n",
       "      <td>Married</td>\n",
       "      <td>Aurora</td>\n",
       "      <td>7919.2</td>\n",
       "      <td>Standard</td>\n",
       "      <td>2016</td>\n",
       "      <td>8</td>\n",
       "      <td>NaN</td>\n",
       "      <td>NaN</td>\n",
       "    </tr>\n",
       "    <tr>\n",
       "      <th>3</th>\n",
       "      <td>100018</td>\n",
       "      <td>2017</td>\n",
       "      <td>4</td>\n",
       "      <td>4</td>\n",
       "      <td>0</td>\n",
       "      <td>4</td>\n",
       "      <td>924</td>\n",
       "      <td>92.0</td>\n",
       "      <td>0</td>\n",
       "      <td>0</td>\n",
       "      <td>...</td>\n",
       "      <td>Bachelor</td>\n",
       "      <td>92552.0</td>\n",
       "      <td>Married</td>\n",
       "      <td>Aurora</td>\n",
       "      <td>7919.2</td>\n",
       "      <td>Standard</td>\n",
       "      <td>2016</td>\n",
       "      <td>8</td>\n",
       "      <td>NaN</td>\n",
       "      <td>NaN</td>\n",
       "    </tr>\n",
       "    <tr>\n",
       "      <th>4</th>\n",
       "      <td>100018</td>\n",
       "      <td>2017</td>\n",
       "      <td>5</td>\n",
       "      <td>0</td>\n",
       "      <td>0</td>\n",
       "      <td>0</td>\n",
       "      <td>0</td>\n",
       "      <td>0.0</td>\n",
       "      <td>0</td>\n",
       "      <td>0</td>\n",
       "      <td>...</td>\n",
       "      <td>Bachelor</td>\n",
       "      <td>92552.0</td>\n",
       "      <td>Married</td>\n",
       "      <td>Aurora</td>\n",
       "      <td>7919.2</td>\n",
       "      <td>Standard</td>\n",
       "      <td>2016</td>\n",
       "      <td>8</td>\n",
       "      <td>NaN</td>\n",
       "      <td>NaN</td>\n",
       "    </tr>\n",
       "  </tbody>\n",
       "</table>\n",
       "<p>5 rows × 25 columns</p>\n",
       "</div>"
      ],
      "text/plain": [
       "   Loyalty Number  Year  Month  Flights Booked  Flights with Companions  \\\n",
       "0          100018  2017      1               3                        0   \n",
       "1          100018  2017      2               2                        2   \n",
       "2          100018  2018     10               6                        4   \n",
       "3          100018  2017      4               4                        0   \n",
       "4          100018  2017      5               0                        0   \n",
       "\n",
       "   Total Flights  Distance  Points Accumulated  Points Redeemed  \\\n",
       "0              3      1521               152.0                0   \n",
       "1              4      1320               132.0                0   \n",
       "2             10      3110               311.0              385   \n",
       "3              4       924                92.0                0   \n",
       "4              0         0                 0.0                0   \n",
       "\n",
       "   Dollar Cost Points Redeemed  ... Education   Salary Marital Status  \\\n",
       "0                            0  ...  Bachelor  92552.0        Married   \n",
       "1                            0  ...  Bachelor  92552.0        Married   \n",
       "2                           31  ...  Bachelor  92552.0        Married   \n",
       "3                            0  ...  Bachelor  92552.0        Married   \n",
       "4                            0  ...  Bachelor  92552.0        Married   \n",
       "\n",
       "  Loyalty Card     CLV Enrollment Type  Enrollment Year Enrollment Month  \\\n",
       "0       Aurora  7919.2        Standard             2016                8   \n",
       "1       Aurora  7919.2        Standard             2016                8   \n",
       "2       Aurora  7919.2        Standard             2016                8   \n",
       "3       Aurora  7919.2        Standard             2016                8   \n",
       "4       Aurora  7919.2        Standard             2016                8   \n",
       "\n",
       "  Cancellation Year  Cancellation Month  \n",
       "0               NaN                 NaN  \n",
       "1               NaN                 NaN  \n",
       "2               NaN                 NaN  \n",
       "3               NaN                 NaN  \n",
       "4               NaN                 NaN  \n",
       "\n",
       "[5 rows x 25 columns]"
      ]
     },
     "execution_count": 318,
     "metadata": {},
     "output_type": "execute_result"
    }
   ],
   "source": [
    "m_df.head()"
   ]
  },
  {
   "cell_type": "code",
   "execution_count": 319,
   "id": "c11114a5",
   "metadata": {},
   "outputs": [
    {
     "data": {
      "text/plain": [
       "(405624, 25)"
      ]
     },
     "execution_count": 319,
     "metadata": {},
     "output_type": "execute_result"
    }
   ],
   "source": [
    "m_df.shape"
   ]
  },
  {
   "cell_type": "code",
   "execution_count": 320,
   "id": "64cbe4a0",
   "metadata": {},
   "outputs": [
    {
     "data": {
      "text/html": [
       "<div>\n",
       "<style scoped>\n",
       "    .dataframe tbody tr th:only-of-type {\n",
       "        vertical-align: middle;\n",
       "    }\n",
       "\n",
       "    .dataframe tbody tr th {\n",
       "        vertical-align: top;\n",
       "    }\n",
       "\n",
       "    .dataframe thead th {\n",
       "        text-align: right;\n",
       "    }\n",
       "</style>\n",
       "<table border=\"1\" class=\"dataframe\">\n",
       "  <thead>\n",
       "    <tr style=\"text-align: right;\">\n",
       "      <th></th>\n",
       "      <th>Loyalty Number</th>\n",
       "      <th>Year</th>\n",
       "      <th>Month</th>\n",
       "      <th>Flights Booked</th>\n",
       "      <th>Flights with Companions</th>\n",
       "      <th>Total Flights</th>\n",
       "      <th>Distance</th>\n",
       "      <th>Points Accumulated</th>\n",
       "      <th>Points Redeemed</th>\n",
       "      <th>Dollar Cost Points Redeemed</th>\n",
       "      <th>Salary</th>\n",
       "      <th>CLV</th>\n",
       "      <th>Enrollment Year</th>\n",
       "      <th>Enrollment Month</th>\n",
       "      <th>Cancellation Year</th>\n",
       "      <th>Cancellation Month</th>\n",
       "    </tr>\n",
       "  </thead>\n",
       "  <tbody>\n",
       "    <tr>\n",
       "      <th>count</th>\n",
       "      <td>405624.000000</td>\n",
       "      <td>405624.000000</td>\n",
       "      <td>405624.000000</td>\n",
       "      <td>405624.000000</td>\n",
       "      <td>405624.000000</td>\n",
       "      <td>405624.000000</td>\n",
       "      <td>405624.000000</td>\n",
       "      <td>405624.000000</td>\n",
       "      <td>405624.000000</td>\n",
       "      <td>405624.000000</td>\n",
       "      <td>302952.000000</td>\n",
       "      <td>405624.000000</td>\n",
       "      <td>405624.000000</td>\n",
       "      <td>405624.000000</td>\n",
       "      <td>50064.000000</td>\n",
       "      <td>50064.000000</td>\n",
       "    </tr>\n",
       "    <tr>\n",
       "      <th>mean</th>\n",
       "      <td>550037.873084</td>\n",
       "      <td>2017.500000</td>\n",
       "      <td>6.500000</td>\n",
       "      <td>4.115052</td>\n",
       "      <td>1.031805</td>\n",
       "      <td>5.146858</td>\n",
       "      <td>1208.880059</td>\n",
       "      <td>123.692721</td>\n",
       "      <td>30.696872</td>\n",
       "      <td>2.484503</td>\n",
       "      <td>79268.825953</td>\n",
       "      <td>7991.976226</td>\n",
       "      <td>2015.252529</td>\n",
       "      <td>6.668008</td>\n",
       "      <td>2016.499521</td>\n",
       "      <td>6.966443</td>\n",
       "    </tr>\n",
       "    <tr>\n",
       "      <th>std</th>\n",
       "      <td>258935.286969</td>\n",
       "      <td>0.500001</td>\n",
       "      <td>3.452057</td>\n",
       "      <td>5.225518</td>\n",
       "      <td>2.076869</td>\n",
       "      <td>6.521227</td>\n",
       "      <td>1433.155320</td>\n",
       "      <td>146.599831</td>\n",
       "      <td>125.486049</td>\n",
       "      <td>10.150038</td>\n",
       "      <td>34992.133508</td>\n",
       "      <td>6863.663857</td>\n",
       "      <td>1.979427</td>\n",
       "      <td>3.399766</td>\n",
       "      <td>1.384336</td>\n",
       "      <td>3.448300</td>\n",
       "    </tr>\n",
       "    <tr>\n",
       "      <th>min</th>\n",
       "      <td>100018.000000</td>\n",
       "      <td>2017.000000</td>\n",
       "      <td>1.000000</td>\n",
       "      <td>0.000000</td>\n",
       "      <td>0.000000</td>\n",
       "      <td>0.000000</td>\n",
       "      <td>0.000000</td>\n",
       "      <td>0.000000</td>\n",
       "      <td>0.000000</td>\n",
       "      <td>0.000000</td>\n",
       "      <td>-58486.000000</td>\n",
       "      <td>1898.010000</td>\n",
       "      <td>2012.000000</td>\n",
       "      <td>1.000000</td>\n",
       "      <td>2013.000000</td>\n",
       "      <td>1.000000</td>\n",
       "    </tr>\n",
       "    <tr>\n",
       "      <th>25%</th>\n",
       "      <td>326961.000000</td>\n",
       "      <td>2017.000000</td>\n",
       "      <td>3.750000</td>\n",
       "      <td>0.000000</td>\n",
       "      <td>0.000000</td>\n",
       "      <td>0.000000</td>\n",
       "      <td>0.000000</td>\n",
       "      <td>0.000000</td>\n",
       "      <td>0.000000</td>\n",
       "      <td>0.000000</td>\n",
       "      <td>59262.000000</td>\n",
       "      <td>3985.320000</td>\n",
       "      <td>2014.000000</td>\n",
       "      <td>4.000000</td>\n",
       "      <td>2016.000000</td>\n",
       "      <td>4.000000</td>\n",
       "    </tr>\n",
       "    <tr>\n",
       "      <th>50%</th>\n",
       "      <td>550834.000000</td>\n",
       "      <td>2017.500000</td>\n",
       "      <td>6.500000</td>\n",
       "      <td>1.000000</td>\n",
       "      <td>0.000000</td>\n",
       "      <td>1.000000</td>\n",
       "      <td>488.000000</td>\n",
       "      <td>50.000000</td>\n",
       "      <td>0.000000</td>\n",
       "      <td>0.000000</td>\n",
       "      <td>73479.000000</td>\n",
       "      <td>5776.340000</td>\n",
       "      <td>2015.000000</td>\n",
       "      <td>7.000000</td>\n",
       "      <td>2017.000000</td>\n",
       "      <td>7.000000</td>\n",
       "    </tr>\n",
       "    <tr>\n",
       "      <th>75%</th>\n",
       "      <td>772194.000000</td>\n",
       "      <td>2018.000000</td>\n",
       "      <td>9.250000</td>\n",
       "      <td>8.000000</td>\n",
       "      <td>1.000000</td>\n",
       "      <td>10.000000</td>\n",
       "      <td>2336.000000</td>\n",
       "      <td>239.000000</td>\n",
       "      <td>0.000000</td>\n",
       "      <td>0.000000</td>\n",
       "      <td>88612.000000</td>\n",
       "      <td>8936.820000</td>\n",
       "      <td>2017.000000</td>\n",
       "      <td>10.000000</td>\n",
       "      <td>2018.000000</td>\n",
       "      <td>10.000000</td>\n",
       "    </tr>\n",
       "    <tr>\n",
       "      <th>max</th>\n",
       "      <td>999986.000000</td>\n",
       "      <td>2018.000000</td>\n",
       "      <td>12.000000</td>\n",
       "      <td>21.000000</td>\n",
       "      <td>11.000000</td>\n",
       "      <td>32.000000</td>\n",
       "      <td>6293.000000</td>\n",
       "      <td>676.500000</td>\n",
       "      <td>876.000000</td>\n",
       "      <td>71.000000</td>\n",
       "      <td>407228.000000</td>\n",
       "      <td>83325.380000</td>\n",
       "      <td>2018.000000</td>\n",
       "      <td>12.000000</td>\n",
       "      <td>2018.000000</td>\n",
       "      <td>12.000000</td>\n",
       "    </tr>\n",
       "  </tbody>\n",
       "</table>\n",
       "</div>"
      ],
      "text/plain": [
       "       Loyalty Number           Year          Month  Flights Booked  \\\n",
       "count   405624.000000  405624.000000  405624.000000   405624.000000   \n",
       "mean    550037.873084    2017.500000       6.500000        4.115052   \n",
       "std     258935.286969       0.500001       3.452057        5.225518   \n",
       "min     100018.000000    2017.000000       1.000000        0.000000   \n",
       "25%     326961.000000    2017.000000       3.750000        0.000000   \n",
       "50%     550834.000000    2017.500000       6.500000        1.000000   \n",
       "75%     772194.000000    2018.000000       9.250000        8.000000   \n",
       "max     999986.000000    2018.000000      12.000000       21.000000   \n",
       "\n",
       "       Flights with Companions  Total Flights       Distance  \\\n",
       "count            405624.000000  405624.000000  405624.000000   \n",
       "mean                  1.031805       5.146858    1208.880059   \n",
       "std                   2.076869       6.521227    1433.155320   \n",
       "min                   0.000000       0.000000       0.000000   \n",
       "25%                   0.000000       0.000000       0.000000   \n",
       "50%                   0.000000       1.000000     488.000000   \n",
       "75%                   1.000000      10.000000    2336.000000   \n",
       "max                  11.000000      32.000000    6293.000000   \n",
       "\n",
       "       Points Accumulated  Points Redeemed  Dollar Cost Points Redeemed  \\\n",
       "count       405624.000000    405624.000000                405624.000000   \n",
       "mean           123.692721        30.696872                     2.484503   \n",
       "std            146.599831       125.486049                    10.150038   \n",
       "min              0.000000         0.000000                     0.000000   \n",
       "25%              0.000000         0.000000                     0.000000   \n",
       "50%             50.000000         0.000000                     0.000000   \n",
       "75%            239.000000         0.000000                     0.000000   \n",
       "max            676.500000       876.000000                    71.000000   \n",
       "\n",
       "              Salary            CLV  Enrollment Year  Enrollment Month  \\\n",
       "count  302952.000000  405624.000000    405624.000000     405624.000000   \n",
       "mean    79268.825953    7991.976226      2015.252529          6.668008   \n",
       "std     34992.133508    6863.663857         1.979427          3.399766   \n",
       "min    -58486.000000    1898.010000      2012.000000          1.000000   \n",
       "25%     59262.000000    3985.320000      2014.000000          4.000000   \n",
       "50%     73479.000000    5776.340000      2015.000000          7.000000   \n",
       "75%     88612.000000    8936.820000      2017.000000         10.000000   \n",
       "max    407228.000000   83325.380000      2018.000000         12.000000   \n",
       "\n",
       "       Cancellation Year  Cancellation Month  \n",
       "count       50064.000000        50064.000000  \n",
       "mean         2016.499521            6.966443  \n",
       "std             1.384336            3.448300  \n",
       "min          2013.000000            1.000000  \n",
       "25%          2016.000000            4.000000  \n",
       "50%          2017.000000            7.000000  \n",
       "75%          2018.000000           10.000000  \n",
       "max          2018.000000           12.000000  "
      ]
     },
     "execution_count": 320,
     "metadata": {},
     "output_type": "execute_result"
    }
   ],
   "source": [
    "m_df.describe()"
   ]
  },
  {
   "cell_type": "code",
   "execution_count": 321,
   "id": "7808dc26",
   "metadata": {},
   "outputs": [
    {
     "data": {
      "text/plain": [
       "Loyalty Number                      0\n",
       "Year                                0\n",
       "Month                               0\n",
       "Flights Booked                      0\n",
       "Flights with Companions             0\n",
       "Total Flights                       0\n",
       "Distance                            0\n",
       "Points Accumulated                  0\n",
       "Points Redeemed                     0\n",
       "Dollar Cost Points Redeemed         0\n",
       "Country                             0\n",
       "Province                            0\n",
       "City                                0\n",
       "Postal Code                         0\n",
       "Gender                              0\n",
       "Education                           0\n",
       "Salary                         102672\n",
       "Marital Status                      0\n",
       "Loyalty Card                        0\n",
       "CLV                                 0\n",
       "Enrollment Type                     0\n",
       "Enrollment Year                     0\n",
       "Enrollment Month                    0\n",
       "Cancellation Year              355560\n",
       "Cancellation Month             355560\n",
       "dtype: int64"
      ]
     },
     "execution_count": 321,
     "metadata": {},
     "output_type": "execute_result"
    }
   ],
   "source": [
    "m_df.isnull().sum()"
   ]
  },
  {
   "cell_type": "code",
   "execution_count": 322,
   "id": "c59ecee4",
   "metadata": {},
   "outputs": [
    {
     "name": "stdout",
     "output_type": "stream",
     "text": [
      "<class 'pandas.core.frame.DataFrame'>\n",
      "Int64Index: 405624 entries, 0 to 405623\n",
      "Data columns (total 25 columns):\n",
      " #   Column                       Non-Null Count   Dtype  \n",
      "---  ------                       --------------   -----  \n",
      " 0   Loyalty Number               405624 non-null  int64  \n",
      " 1   Year                         405624 non-null  int64  \n",
      " 2   Month                        405624 non-null  int64  \n",
      " 3   Flights Booked               405624 non-null  int64  \n",
      " 4   Flights with Companions      405624 non-null  int64  \n",
      " 5   Total Flights                405624 non-null  int64  \n",
      " 6   Distance                     405624 non-null  int64  \n",
      " 7   Points Accumulated           405624 non-null  float64\n",
      " 8   Points Redeemed              405624 non-null  int64  \n",
      " 9   Dollar Cost Points Redeemed  405624 non-null  int64  \n",
      " 10  Country                      405624 non-null  object \n",
      " 11  Province                     405624 non-null  object \n",
      " 12  City                         405624 non-null  object \n",
      " 13  Postal Code                  405624 non-null  object \n",
      " 14  Gender                       405624 non-null  object \n",
      " 15  Education                    405624 non-null  object \n",
      " 16  Salary                       302952 non-null  float64\n",
      " 17  Marital Status               405624 non-null  object \n",
      " 18  Loyalty Card                 405624 non-null  object \n",
      " 19  CLV                          405624 non-null  float64\n",
      " 20  Enrollment Type              405624 non-null  object \n",
      " 21  Enrollment Year              405624 non-null  int64  \n",
      " 22  Enrollment Month             405624 non-null  int64  \n",
      " 23  Cancellation Year            50064 non-null   float64\n",
      " 24  Cancellation Month           50064 non-null   float64\n",
      "dtypes: float64(5), int64(11), object(9)\n",
      "memory usage: 80.5+ MB\n"
     ]
    }
   ],
   "source": [
    "m_df.info()"
   ]
  },
  {
   "cell_type": "code",
   "execution_count": 323,
   "id": "fc610372",
   "metadata": {},
   "outputs": [
    {
     "name": "stdout",
     "output_type": "stream",
     "text": [
      "There are total of 25 columns\n"
     ]
    },
    {
     "name": "stderr",
     "output_type": "stream",
     "text": [
      "/var/folders/9l/vt6f2rxn5538q8_4lcq5wd9c0000gn/T/ipykernel_2136/1861488735.py:2: DeprecationWarning: `np.object` is a deprecated alias for the builtin `object`. To silence this warning, use `object` by itself. Doing this will not modify any behavior and is safe. \n",
      "Deprecated in NumPy 1.20; for more details and guidance: https://numpy.org/devdocs/release/1.20.0-notes.html#deprecations\n",
      "  df_cat = m_df.select_dtypes(include=np.object)\n"
     ]
    },
    {
     "name": "stdout",
     "output_type": "stream",
     "text": [
      "Total Categorical Columns:  9\n",
      "\n",
      "\n",
      "Categorical column names :  Index(['Country', 'Province', 'City', 'Postal Code', 'Gender', 'Education',\n",
      "       'Marital Status', 'Loyalty Card', 'Enrollment Type'],\n",
      "      dtype='object')\n",
      "\n",
      "\n",
      "Total numerical columns :  16\n",
      "\n",
      "\n",
      "Numerical column names :  Index(['Loyalty Number', 'Year', 'Month', 'Flights Booked',\n",
      "       'Flights with Companions', 'Total Flights', 'Distance',\n",
      "       'Points Accumulated', 'Points Redeemed', 'Dollar Cost Points Redeemed',\n",
      "       'Salary', 'CLV', 'Enrollment Year', 'Enrollment Month',\n",
      "       'Cancellation Year', 'Cancellation Month'],\n",
      "      dtype='object')\n"
     ]
    }
   ],
   "source": [
    "print(\"There are total of 25 columns\")\n",
    "df_cat = m_df.select_dtypes(include=np.object)\n",
    "df_num = m_df.select_dtypes(include=np.number)\n",
    "print(\"Total Categorical Columns: \", len(df_cat.columns))\n",
    "print('\\n')\n",
    "print('Categorical column names : ',df_cat.columns)\n",
    "print('\\n')\n",
    "print('Total numerical columns : ',len(df_num.columns))\n",
    "print('\\n')\n",
    "print('Numerical column names : ',df_num.columns)"
   ]
  },
  {
   "cell_type": "code",
   "execution_count": 324,
   "id": "aaf66a96",
   "metadata": {},
   "outputs": [],
   "source": [
    "### Data Cleaning and Preprocessing\n",
    "df1 = m_df.copy()"
   ]
  },
  {
   "cell_type": "code",
   "execution_count": 325,
   "id": "db2c82b8",
   "metadata": {
    "scrolled": true
   },
   "outputs": [
    {
     "data": {
      "text/html": [
       "<div>\n",
       "<style scoped>\n",
       "    .dataframe tbody tr th:only-of-type {\n",
       "        vertical-align: middle;\n",
       "    }\n",
       "\n",
       "    .dataframe tbody tr th {\n",
       "        vertical-align: top;\n",
       "    }\n",
       "\n",
       "    .dataframe thead th {\n",
       "        text-align: right;\n",
       "    }\n",
       "</style>\n",
       "<table border=\"1\" class=\"dataframe\">\n",
       "  <thead>\n",
       "    <tr style=\"text-align: right;\">\n",
       "      <th></th>\n",
       "      <th>Loyalty Number</th>\n",
       "      <th>Year</th>\n",
       "      <th>Month</th>\n",
       "      <th>Flights Booked</th>\n",
       "      <th>Flights with Companions</th>\n",
       "      <th>Total Flights</th>\n",
       "      <th>Distance</th>\n",
       "      <th>Points Accumulated</th>\n",
       "      <th>Points Redeemed</th>\n",
       "      <th>Dollar Cost Points Redeemed</th>\n",
       "      <th>...</th>\n",
       "      <th>Education</th>\n",
       "      <th>Salary</th>\n",
       "      <th>Marital Status</th>\n",
       "      <th>Loyalty Card</th>\n",
       "      <th>CLV</th>\n",
       "      <th>Enrollment Type</th>\n",
       "      <th>Enrollment Year</th>\n",
       "      <th>Enrollment Month</th>\n",
       "      <th>Cancellation Year</th>\n",
       "      <th>Cancellation Month</th>\n",
       "    </tr>\n",
       "  </thead>\n",
       "  <tbody>\n",
       "    <tr>\n",
       "      <th>0</th>\n",
       "      <td>100018</td>\n",
       "      <td>2017</td>\n",
       "      <td>1</td>\n",
       "      <td>3</td>\n",
       "      <td>0</td>\n",
       "      <td>3</td>\n",
       "      <td>1521</td>\n",
       "      <td>152.0</td>\n",
       "      <td>0</td>\n",
       "      <td>0</td>\n",
       "      <td>...</td>\n",
       "      <td>Bachelor</td>\n",
       "      <td>92552.0</td>\n",
       "      <td>Married</td>\n",
       "      <td>Aurora</td>\n",
       "      <td>7919.2</td>\n",
       "      <td>Standard</td>\n",
       "      <td>2016</td>\n",
       "      <td>8</td>\n",
       "      <td>NaN</td>\n",
       "      <td>NaN</td>\n",
       "    </tr>\n",
       "    <tr>\n",
       "      <th>1</th>\n",
       "      <td>100018</td>\n",
       "      <td>2017</td>\n",
       "      <td>2</td>\n",
       "      <td>2</td>\n",
       "      <td>2</td>\n",
       "      <td>4</td>\n",
       "      <td>1320</td>\n",
       "      <td>132.0</td>\n",
       "      <td>0</td>\n",
       "      <td>0</td>\n",
       "      <td>...</td>\n",
       "      <td>Bachelor</td>\n",
       "      <td>92552.0</td>\n",
       "      <td>Married</td>\n",
       "      <td>Aurora</td>\n",
       "      <td>7919.2</td>\n",
       "      <td>Standard</td>\n",
       "      <td>2016</td>\n",
       "      <td>8</td>\n",
       "      <td>NaN</td>\n",
       "      <td>NaN</td>\n",
       "    </tr>\n",
       "    <tr>\n",
       "      <th>2</th>\n",
       "      <td>100018</td>\n",
       "      <td>2018</td>\n",
       "      <td>10</td>\n",
       "      <td>6</td>\n",
       "      <td>4</td>\n",
       "      <td>10</td>\n",
       "      <td>3110</td>\n",
       "      <td>311.0</td>\n",
       "      <td>385</td>\n",
       "      <td>31</td>\n",
       "      <td>...</td>\n",
       "      <td>Bachelor</td>\n",
       "      <td>92552.0</td>\n",
       "      <td>Married</td>\n",
       "      <td>Aurora</td>\n",
       "      <td>7919.2</td>\n",
       "      <td>Standard</td>\n",
       "      <td>2016</td>\n",
       "      <td>8</td>\n",
       "      <td>NaN</td>\n",
       "      <td>NaN</td>\n",
       "    </tr>\n",
       "    <tr>\n",
       "      <th>3</th>\n",
       "      <td>100018</td>\n",
       "      <td>2017</td>\n",
       "      <td>4</td>\n",
       "      <td>4</td>\n",
       "      <td>0</td>\n",
       "      <td>4</td>\n",
       "      <td>924</td>\n",
       "      <td>92.0</td>\n",
       "      <td>0</td>\n",
       "      <td>0</td>\n",
       "      <td>...</td>\n",
       "      <td>Bachelor</td>\n",
       "      <td>92552.0</td>\n",
       "      <td>Married</td>\n",
       "      <td>Aurora</td>\n",
       "      <td>7919.2</td>\n",
       "      <td>Standard</td>\n",
       "      <td>2016</td>\n",
       "      <td>8</td>\n",
       "      <td>NaN</td>\n",
       "      <td>NaN</td>\n",
       "    </tr>\n",
       "    <tr>\n",
       "      <th>4</th>\n",
       "      <td>100018</td>\n",
       "      <td>2017</td>\n",
       "      <td>5</td>\n",
       "      <td>0</td>\n",
       "      <td>0</td>\n",
       "      <td>0</td>\n",
       "      <td>0</td>\n",
       "      <td>0.0</td>\n",
       "      <td>0</td>\n",
       "      <td>0</td>\n",
       "      <td>...</td>\n",
       "      <td>Bachelor</td>\n",
       "      <td>92552.0</td>\n",
       "      <td>Married</td>\n",
       "      <td>Aurora</td>\n",
       "      <td>7919.2</td>\n",
       "      <td>Standard</td>\n",
       "      <td>2016</td>\n",
       "      <td>8</td>\n",
       "      <td>NaN</td>\n",
       "      <td>NaN</td>\n",
       "    </tr>\n",
       "  </tbody>\n",
       "</table>\n",
       "<p>5 rows × 25 columns</p>\n",
       "</div>"
      ],
      "text/plain": [
       "   Loyalty Number  Year  Month  Flights Booked  Flights with Companions  \\\n",
       "0          100018  2017      1               3                        0   \n",
       "1          100018  2017      2               2                        2   \n",
       "2          100018  2018     10               6                        4   \n",
       "3          100018  2017      4               4                        0   \n",
       "4          100018  2017      5               0                        0   \n",
       "\n",
       "   Total Flights  Distance  Points Accumulated  Points Redeemed  \\\n",
       "0              3      1521               152.0                0   \n",
       "1              4      1320               132.0                0   \n",
       "2             10      3110               311.0              385   \n",
       "3              4       924                92.0                0   \n",
       "4              0         0                 0.0                0   \n",
       "\n",
       "   Dollar Cost Points Redeemed  ... Education   Salary Marital Status  \\\n",
       "0                            0  ...  Bachelor  92552.0        Married   \n",
       "1                            0  ...  Bachelor  92552.0        Married   \n",
       "2                           31  ...  Bachelor  92552.0        Married   \n",
       "3                            0  ...  Bachelor  92552.0        Married   \n",
       "4                            0  ...  Bachelor  92552.0        Married   \n",
       "\n",
       "  Loyalty Card     CLV Enrollment Type  Enrollment Year Enrollment Month  \\\n",
       "0       Aurora  7919.2        Standard             2016                8   \n",
       "1       Aurora  7919.2        Standard             2016                8   \n",
       "2       Aurora  7919.2        Standard             2016                8   \n",
       "3       Aurora  7919.2        Standard             2016                8   \n",
       "4       Aurora  7919.2        Standard             2016                8   \n",
       "\n",
       "  Cancellation Year  Cancellation Month  \n",
       "0               NaN                 NaN  \n",
       "1               NaN                 NaN  \n",
       "2               NaN                 NaN  \n",
       "3               NaN                 NaN  \n",
       "4               NaN                 NaN  \n",
       "\n",
       "[5 rows x 25 columns]"
      ]
     },
     "execution_count": 325,
     "metadata": {},
     "output_type": "execute_result"
    }
   ],
   "source": [
    "df1.head()"
   ]
  },
  {
   "cell_type": "code",
   "execution_count": 326,
   "id": "dea71252",
   "metadata": {},
   "outputs": [],
   "source": [
    "### Replace with NaN values ?\n",
    "\n",
    "df1['Cancellation Year'] = df1['Cancellation Year'].fillna('?')\n",
    "df1['Cancellation Month'] = df1['Cancellation Month'].fillna('?')"
   ]
  },
  {
   "cell_type": "code",
   "execution_count": 327,
   "id": "f9f9881d",
   "metadata": {},
   "outputs": [
    {
     "name": "stdout",
     "output_type": "stream",
     "text": [
      "Loyalty Number 0.0\n",
      "Year 0.0\n",
      "Month 0.0\n",
      "Flights Booked 0.0\n",
      "Flights with Companions 0.0\n",
      "Total Flights 0.0\n",
      "Distance 0.0\n",
      "Points Accumulated 0.0\n",
      "Points Redeemed 0.0\n",
      "Dollar Cost Points Redeemed 0.0\n",
      "Country 0.0\n",
      "Province 0.0\n",
      "City 0.0\n",
      "Postal Code 0.0\n",
      "Gender 0.0\n",
      "Education 0.0\n",
      "Salary 0.0\n",
      "Marital Status 0.0\n",
      "Loyalty Card 0.0\n",
      "CLV 0.0\n",
      "Enrollment Type 0.0\n",
      "Enrollment Year 0.0\n",
      "Enrollment Month 0.0\n",
      "Cancellation Year 87.65753505709722\n",
      "Cancellation Month 87.65753505709722\n"
     ]
    }
   ],
   "source": [
    "# Check for empty values in percentage method\n",
    "for i in df1.columns:\n",
    "    print(i, df1[i][df1[i]=='?'].count()/len(df1)*100) # Checking in percentage"
   ]
  },
  {
   "cell_type": "code",
   "execution_count": 328,
   "id": "c0cf3dd5",
   "metadata": {},
   "outputs": [],
   "source": [
    "### The data for Cancellation Month and Cancellation year has 87% missing values. "
   ]
  },
  {
   "cell_type": "code",
   "execution_count": 329,
   "id": "bba3510a",
   "metadata": {},
   "outputs": [],
   "source": [
    "### Dropping Columns which are not important in the large dataset and with many empty values\n",
    "df1 = df1.drop(['Cancellation Year', 'Cancellation Month'],axis = 1)"
   ]
  },
  {
   "cell_type": "code",
   "execution_count": 330,
   "id": "b07a9dbc",
   "metadata": {},
   "outputs": [
    {
     "data": {
      "text/html": [
       "<div>\n",
       "<style scoped>\n",
       "    .dataframe tbody tr th:only-of-type {\n",
       "        vertical-align: middle;\n",
       "    }\n",
       "\n",
       "    .dataframe tbody tr th {\n",
       "        vertical-align: top;\n",
       "    }\n",
       "\n",
       "    .dataframe thead th {\n",
       "        text-align: right;\n",
       "    }\n",
       "</style>\n",
       "<table border=\"1\" class=\"dataframe\">\n",
       "  <thead>\n",
       "    <tr style=\"text-align: right;\">\n",
       "      <th></th>\n",
       "      <th>Loyalty Number</th>\n",
       "      <th>Year</th>\n",
       "      <th>Month</th>\n",
       "      <th>Flights Booked</th>\n",
       "      <th>Flights with Companions</th>\n",
       "      <th>Total Flights</th>\n",
       "      <th>Distance</th>\n",
       "      <th>Points Accumulated</th>\n",
       "      <th>Points Redeemed</th>\n",
       "      <th>Dollar Cost Points Redeemed</th>\n",
       "      <th>...</th>\n",
       "      <th>Postal Code</th>\n",
       "      <th>Gender</th>\n",
       "      <th>Education</th>\n",
       "      <th>Salary</th>\n",
       "      <th>Marital Status</th>\n",
       "      <th>Loyalty Card</th>\n",
       "      <th>CLV</th>\n",
       "      <th>Enrollment Type</th>\n",
       "      <th>Enrollment Year</th>\n",
       "      <th>Enrollment Month</th>\n",
       "    </tr>\n",
       "  </thead>\n",
       "  <tbody>\n",
       "    <tr>\n",
       "      <th>0</th>\n",
       "      <td>100018</td>\n",
       "      <td>2017</td>\n",
       "      <td>1</td>\n",
       "      <td>3</td>\n",
       "      <td>0</td>\n",
       "      <td>3</td>\n",
       "      <td>1521</td>\n",
       "      <td>152.0</td>\n",
       "      <td>0</td>\n",
       "      <td>0</td>\n",
       "      <td>...</td>\n",
       "      <td>T9G 1W3</td>\n",
       "      <td>Female</td>\n",
       "      <td>Bachelor</td>\n",
       "      <td>92552.0</td>\n",
       "      <td>Married</td>\n",
       "      <td>Aurora</td>\n",
       "      <td>7919.2</td>\n",
       "      <td>Standard</td>\n",
       "      <td>2016</td>\n",
       "      <td>8</td>\n",
       "    </tr>\n",
       "    <tr>\n",
       "      <th>1</th>\n",
       "      <td>100018</td>\n",
       "      <td>2017</td>\n",
       "      <td>2</td>\n",
       "      <td>2</td>\n",
       "      <td>2</td>\n",
       "      <td>4</td>\n",
       "      <td>1320</td>\n",
       "      <td>132.0</td>\n",
       "      <td>0</td>\n",
       "      <td>0</td>\n",
       "      <td>...</td>\n",
       "      <td>T9G 1W3</td>\n",
       "      <td>Female</td>\n",
       "      <td>Bachelor</td>\n",
       "      <td>92552.0</td>\n",
       "      <td>Married</td>\n",
       "      <td>Aurora</td>\n",
       "      <td>7919.2</td>\n",
       "      <td>Standard</td>\n",
       "      <td>2016</td>\n",
       "      <td>8</td>\n",
       "    </tr>\n",
       "    <tr>\n",
       "      <th>2</th>\n",
       "      <td>100018</td>\n",
       "      <td>2018</td>\n",
       "      <td>10</td>\n",
       "      <td>6</td>\n",
       "      <td>4</td>\n",
       "      <td>10</td>\n",
       "      <td>3110</td>\n",
       "      <td>311.0</td>\n",
       "      <td>385</td>\n",
       "      <td>31</td>\n",
       "      <td>...</td>\n",
       "      <td>T9G 1W3</td>\n",
       "      <td>Female</td>\n",
       "      <td>Bachelor</td>\n",
       "      <td>92552.0</td>\n",
       "      <td>Married</td>\n",
       "      <td>Aurora</td>\n",
       "      <td>7919.2</td>\n",
       "      <td>Standard</td>\n",
       "      <td>2016</td>\n",
       "      <td>8</td>\n",
       "    </tr>\n",
       "    <tr>\n",
       "      <th>3</th>\n",
       "      <td>100018</td>\n",
       "      <td>2017</td>\n",
       "      <td>4</td>\n",
       "      <td>4</td>\n",
       "      <td>0</td>\n",
       "      <td>4</td>\n",
       "      <td>924</td>\n",
       "      <td>92.0</td>\n",
       "      <td>0</td>\n",
       "      <td>0</td>\n",
       "      <td>...</td>\n",
       "      <td>T9G 1W3</td>\n",
       "      <td>Female</td>\n",
       "      <td>Bachelor</td>\n",
       "      <td>92552.0</td>\n",
       "      <td>Married</td>\n",
       "      <td>Aurora</td>\n",
       "      <td>7919.2</td>\n",
       "      <td>Standard</td>\n",
       "      <td>2016</td>\n",
       "      <td>8</td>\n",
       "    </tr>\n",
       "    <tr>\n",
       "      <th>4</th>\n",
       "      <td>100018</td>\n",
       "      <td>2017</td>\n",
       "      <td>5</td>\n",
       "      <td>0</td>\n",
       "      <td>0</td>\n",
       "      <td>0</td>\n",
       "      <td>0</td>\n",
       "      <td>0.0</td>\n",
       "      <td>0</td>\n",
       "      <td>0</td>\n",
       "      <td>...</td>\n",
       "      <td>T9G 1W3</td>\n",
       "      <td>Female</td>\n",
       "      <td>Bachelor</td>\n",
       "      <td>92552.0</td>\n",
       "      <td>Married</td>\n",
       "      <td>Aurora</td>\n",
       "      <td>7919.2</td>\n",
       "      <td>Standard</td>\n",
       "      <td>2016</td>\n",
       "      <td>8</td>\n",
       "    </tr>\n",
       "  </tbody>\n",
       "</table>\n",
       "<p>5 rows × 23 columns</p>\n",
       "</div>"
      ],
      "text/plain": [
       "   Loyalty Number  Year  Month  Flights Booked  Flights with Companions  \\\n",
       "0          100018  2017      1               3                        0   \n",
       "1          100018  2017      2               2                        2   \n",
       "2          100018  2018     10               6                        4   \n",
       "3          100018  2017      4               4                        0   \n",
       "4          100018  2017      5               0                        0   \n",
       "\n",
       "   Total Flights  Distance  Points Accumulated  Points Redeemed  \\\n",
       "0              3      1521               152.0                0   \n",
       "1              4      1320               132.0                0   \n",
       "2             10      3110               311.0              385   \n",
       "3              4       924                92.0                0   \n",
       "4              0         0                 0.0                0   \n",
       "\n",
       "   Dollar Cost Points Redeemed  ... Postal Code  Gender Education   Salary  \\\n",
       "0                            0  ...     T9G 1W3  Female  Bachelor  92552.0   \n",
       "1                            0  ...     T9G 1W3  Female  Bachelor  92552.0   \n",
       "2                           31  ...     T9G 1W3  Female  Bachelor  92552.0   \n",
       "3                            0  ...     T9G 1W3  Female  Bachelor  92552.0   \n",
       "4                            0  ...     T9G 1W3  Female  Bachelor  92552.0   \n",
       "\n",
       "  Marital Status Loyalty Card     CLV Enrollment Type Enrollment Year  \\\n",
       "0        Married       Aurora  7919.2        Standard            2016   \n",
       "1        Married       Aurora  7919.2        Standard            2016   \n",
       "2        Married       Aurora  7919.2        Standard            2016   \n",
       "3        Married       Aurora  7919.2        Standard            2016   \n",
       "4        Married       Aurora  7919.2        Standard            2016   \n",
       "\n",
       "   Enrollment Month  \n",
       "0                 8  \n",
       "1                 8  \n",
       "2                 8  \n",
       "3                 8  \n",
       "4                 8  \n",
       "\n",
       "[5 rows x 23 columns]"
      ]
     },
     "execution_count": 330,
     "metadata": {},
     "output_type": "execute_result"
    }
   ],
   "source": [
    "df1.head()"
   ]
  },
  {
   "cell_type": "code",
   "execution_count": 331,
   "id": "aeeeca0f",
   "metadata": {},
   "outputs": [],
   "source": [
    "### There are total 23 columns"
   ]
  },
  {
   "cell_type": "code",
   "execution_count": 332,
   "id": "bebb4e1d",
   "metadata": {
    "scrolled": true
   },
   "outputs": [
    {
     "data": {
      "text/plain": [
       "2"
      ]
     },
     "execution_count": 332,
     "metadata": {},
     "output_type": "execute_result"
    }
   ],
   "source": [
    "df1['Gender'].nunique()"
   ]
  },
  {
   "cell_type": "code",
   "execution_count": 333,
   "id": "7b78efe4",
   "metadata": {},
   "outputs": [
    {
     "data": {
      "text/plain": [
       "Female    203640\n",
       "Male      201984\n",
       "Name: Gender, dtype: int64"
      ]
     },
     "execution_count": 333,
     "metadata": {},
     "output_type": "execute_result"
    }
   ],
   "source": [
    "df1['Gender'].value_counts()"
   ]
  },
  {
   "cell_type": "code",
   "execution_count": 334,
   "id": "421165f3",
   "metadata": {},
   "outputs": [
    {
     "data": {
      "text/plain": [
       "5"
      ]
     },
     "execution_count": 334,
     "metadata": {},
     "output_type": "execute_result"
    }
   ],
   "source": [
    "df1['Education'].nunique()"
   ]
  },
  {
   "cell_type": "code",
   "execution_count": 335,
   "id": "2c827a8f",
   "metadata": {},
   "outputs": [
    {
     "data": {
      "text/plain": [
       "Bachelor                253752\n",
       "College                 102672\n",
       "High School or Below     19008\n",
       "Doctor                   17856\n",
       "Master                   12336\n",
       "Name: Education, dtype: int64"
      ]
     },
     "execution_count": 335,
     "metadata": {},
     "output_type": "execute_result"
    }
   ],
   "source": [
    "df1['Education'].value_counts()"
   ]
  },
  {
   "cell_type": "code",
   "execution_count": 336,
   "id": "78f3a894",
   "metadata": {},
   "outputs": [
    {
     "data": {
      "text/plain": [
       "3"
      ]
     },
     "execution_count": 336,
     "metadata": {},
     "output_type": "execute_result"
    }
   ],
   "source": [
    "df1['Marital Status'].nunique()"
   ]
  },
  {
   "cell_type": "code",
   "execution_count": 337,
   "id": "39dacff4",
   "metadata": {},
   "outputs": [
    {
     "data": {
      "text/plain": [
       "Married     235800\n",
       "Single      108648\n",
       "Divorced     61176\n",
       "Name: Marital Status, dtype: int64"
      ]
     },
     "execution_count": 337,
     "metadata": {},
     "output_type": "execute_result"
    }
   ],
   "source": [
    "df1['Marital Status'].value_counts()"
   ]
  },
  {
   "cell_type": "code",
   "execution_count": 338,
   "id": "ffa23241",
   "metadata": {},
   "outputs": [
    {
     "data": {
      "text/plain": [
       "3"
      ]
     },
     "execution_count": 338,
     "metadata": {},
     "output_type": "execute_result"
    }
   ],
   "source": [
    "df1['Loyalty Card'].nunique()"
   ]
  },
  {
   "cell_type": "code",
   "execution_count": 339,
   "id": "cc4996a2",
   "metadata": {},
   "outputs": [
    {
     "data": {
      "text/plain": [
       "Star      184224\n",
       "Nova      137568\n",
       "Aurora     83832\n",
       "Name: Loyalty Card, dtype: int64"
      ]
     },
     "execution_count": 339,
     "metadata": {},
     "output_type": "execute_result"
    }
   ],
   "source": [
    "df1['Loyalty Card'].value_counts()"
   ]
  },
  {
   "cell_type": "code",
   "execution_count": 340,
   "id": "c7a49879",
   "metadata": {},
   "outputs": [
    {
     "data": {
      "text/plain": [
       "2"
      ]
     },
     "execution_count": 340,
     "metadata": {},
     "output_type": "execute_result"
    }
   ],
   "source": [
    "df1['Enrollment Type'].nunique()"
   ]
  },
  {
   "cell_type": "code",
   "execution_count": 341,
   "id": "1a247102",
   "metadata": {},
   "outputs": [
    {
     "data": {
      "text/plain": [
       "Standard          382200\n",
       "2018 Promotion     23424\n",
       "Name: Enrollment Type, dtype: int64"
      ]
     },
     "execution_count": 341,
     "metadata": {},
     "output_type": "execute_result"
    }
   ],
   "source": [
    "df1['Enrollment Type'].value_counts()"
   ]
  },
  {
   "cell_type": "code",
   "execution_count": 342,
   "id": "5325f68f",
   "metadata": {},
   "outputs": [
    {
     "data": {
      "text/plain": [
       "7"
      ]
     },
     "execution_count": 342,
     "metadata": {},
     "output_type": "execute_result"
    }
   ],
   "source": [
    "df1['Enrollment Year'].nunique()"
   ]
  },
  {
   "cell_type": "code",
   "execution_count": 343,
   "id": "36da3d28",
   "metadata": {},
   "outputs": [
    {
     "data": {
      "text/plain": [
       "2018    72816\n",
       "2017    60432\n",
       "2016    59520\n",
       "2013    58032\n",
       "2014    57288\n",
       "2015    56520\n",
       "2012    41016\n",
       "Name: Enrollment Year, dtype: int64"
      ]
     },
     "execution_count": 343,
     "metadata": {},
     "output_type": "execute_result"
    }
   ],
   "source": [
    "df1['Enrollment Year'].value_counts()"
   ]
  },
  {
   "cell_type": "markdown",
   "id": "8f6d7786",
   "metadata": {},
   "source": [
    "## Handling Outliers"
   ]
  },
  {
   "cell_type": "code",
   "execution_count": 344,
   "id": "0764e6a7",
   "metadata": {
    "scrolled": true
   },
   "outputs": [
    {
     "data": {
      "image/png": "[encoded data removed]",
      "text/plain": [
       "<Figure size 1000x800 with 1 Axes>"
      ]
     },
     "metadata": {},
     "output_type": "display_data"
    }
   ],
   "source": [
    "# Create a Box Plot for Numerical Column\n",
    "plt.figure(figsize=(10,8))\n",
    "sns.boxplot(data=df1)\n",
    "plt.xticks(rotation=45)\n",
    "plt.show()"
   ]
  },
  {
   "cell_type": "markdown",
   "id": "7a95a770",
   "metadata": {},
   "source": [
    "### Hypothesis Testing"
   ]
  },
  {
   "cell_type": "code",
   "execution_count": 345,
   "id": "d2f4c2b4",
   "metadata": {},
   "outputs": [],
   "source": [
    "import scipy.stats as st\n",
    "from statsmodels.stats.proportion import proportion_confint,proportions_ztest"
   ]
  },
  {
   "cell_type": "code",
   "execution_count": 346,
   "id": "96d14d9c",
   "metadata": {},
   "outputs": [
    {
     "data": {
      "text/html": [
       "<div>\n",
       "<style scoped>\n",
       "    .dataframe tbody tr th:only-of-type {\n",
       "        vertical-align: middle;\n",
       "    }\n",
       "\n",
       "    .dataframe tbody tr th {\n",
       "        vertical-align: top;\n",
       "    }\n",
       "\n",
       "    .dataframe thead th {\n",
       "        text-align: right;\n",
       "    }\n",
       "</style>\n",
       "<table border=\"1\" class=\"dataframe\">\n",
       "  <thead>\n",
       "    <tr style=\"text-align: right;\">\n",
       "      <th></th>\n",
       "      <th>Loyalty Number</th>\n",
       "      <th>Year</th>\n",
       "      <th>Month</th>\n",
       "      <th>Flights Booked</th>\n",
       "      <th>Flights with Companions</th>\n",
       "      <th>Total Flights</th>\n",
       "      <th>Distance</th>\n",
       "      <th>Points Accumulated</th>\n",
       "      <th>Points Redeemed</th>\n",
       "      <th>Dollar Cost Points Redeemed</th>\n",
       "      <th>...</th>\n",
       "      <th>Postal Code</th>\n",
       "      <th>Gender</th>\n",
       "      <th>Education</th>\n",
       "      <th>Salary</th>\n",
       "      <th>Marital Status</th>\n",
       "      <th>Loyalty Card</th>\n",
       "      <th>CLV</th>\n",
       "      <th>Enrollment Type</th>\n",
       "      <th>Enrollment Year</th>\n",
       "      <th>Enrollment Month</th>\n",
       "    </tr>\n",
       "  </thead>\n",
       "  <tbody>\n",
       "    <tr>\n",
       "      <th>0</th>\n",
       "      <td>100018</td>\n",
       "      <td>2017</td>\n",
       "      <td>1</td>\n",
       "      <td>3</td>\n",
       "      <td>0</td>\n",
       "      <td>3</td>\n",
       "      <td>1521</td>\n",
       "      <td>152.0</td>\n",
       "      <td>0</td>\n",
       "      <td>0</td>\n",
       "      <td>...</td>\n",
       "      <td>T9G 1W3</td>\n",
       "      <td>Female</td>\n",
       "      <td>Bachelor</td>\n",
       "      <td>92552.0</td>\n",
       "      <td>Married</td>\n",
       "      <td>Aurora</td>\n",
       "      <td>7919.2</td>\n",
       "      <td>Standard</td>\n",
       "      <td>2016</td>\n",
       "      <td>8</td>\n",
       "    </tr>\n",
       "    <tr>\n",
       "      <th>1</th>\n",
       "      <td>100018</td>\n",
       "      <td>2017</td>\n",
       "      <td>2</td>\n",
       "      <td>2</td>\n",
       "      <td>2</td>\n",
       "      <td>4</td>\n",
       "      <td>1320</td>\n",
       "      <td>132.0</td>\n",
       "      <td>0</td>\n",
       "      <td>0</td>\n",
       "      <td>...</td>\n",
       "      <td>T9G 1W3</td>\n",
       "      <td>Female</td>\n",
       "      <td>Bachelor</td>\n",
       "      <td>92552.0</td>\n",
       "      <td>Married</td>\n",
       "      <td>Aurora</td>\n",
       "      <td>7919.2</td>\n",
       "      <td>Standard</td>\n",
       "      <td>2016</td>\n",
       "      <td>8</td>\n",
       "    </tr>\n",
       "    <tr>\n",
       "      <th>2</th>\n",
       "      <td>100018</td>\n",
       "      <td>2018</td>\n",
       "      <td>10</td>\n",
       "      <td>6</td>\n",
       "      <td>4</td>\n",
       "      <td>10</td>\n",
       "      <td>3110</td>\n",
       "      <td>311.0</td>\n",
       "      <td>385</td>\n",
       "      <td>31</td>\n",
       "      <td>...</td>\n",
       "      <td>T9G 1W3</td>\n",
       "      <td>Female</td>\n",
       "      <td>Bachelor</td>\n",
       "      <td>92552.0</td>\n",
       "      <td>Married</td>\n",
       "      <td>Aurora</td>\n",
       "      <td>7919.2</td>\n",
       "      <td>Standard</td>\n",
       "      <td>2016</td>\n",
       "      <td>8</td>\n",
       "    </tr>\n",
       "    <tr>\n",
       "      <th>3</th>\n",
       "      <td>100018</td>\n",
       "      <td>2017</td>\n",
       "      <td>4</td>\n",
       "      <td>4</td>\n",
       "      <td>0</td>\n",
       "      <td>4</td>\n",
       "      <td>924</td>\n",
       "      <td>92.0</td>\n",
       "      <td>0</td>\n",
       "      <td>0</td>\n",
       "      <td>...</td>\n",
       "      <td>T9G 1W3</td>\n",
       "      <td>Female</td>\n",
       "      <td>Bachelor</td>\n",
       "      <td>92552.0</td>\n",
       "      <td>Married</td>\n",
       "      <td>Aurora</td>\n",
       "      <td>7919.2</td>\n",
       "      <td>Standard</td>\n",
       "      <td>2016</td>\n",
       "      <td>8</td>\n",
       "    </tr>\n",
       "    <tr>\n",
       "      <th>4</th>\n",
       "      <td>100018</td>\n",
       "      <td>2017</td>\n",
       "      <td>5</td>\n",
       "      <td>0</td>\n",
       "      <td>0</td>\n",
       "      <td>0</td>\n",
       "      <td>0</td>\n",
       "      <td>0.0</td>\n",
       "      <td>0</td>\n",
       "      <td>0</td>\n",
       "      <td>...</td>\n",
       "      <td>T9G 1W3</td>\n",
       "      <td>Female</td>\n",
       "      <td>Bachelor</td>\n",
       "      <td>92552.0</td>\n",
       "      <td>Married</td>\n",
       "      <td>Aurora</td>\n",
       "      <td>7919.2</td>\n",
       "      <td>Standard</td>\n",
       "      <td>2016</td>\n",
       "      <td>8</td>\n",
       "    </tr>\n",
       "  </tbody>\n",
       "</table>\n",
       "<p>5 rows × 23 columns</p>\n",
       "</div>"
      ],
      "text/plain": [
       "   Loyalty Number  Year  Month  Flights Booked  Flights with Companions  \\\n",
       "0          100018  2017      1               3                        0   \n",
       "1          100018  2017      2               2                        2   \n",
       "2          100018  2018     10               6                        4   \n",
       "3          100018  2017      4               4                        0   \n",
       "4          100018  2017      5               0                        0   \n",
       "\n",
       "   Total Flights  Distance  Points Accumulated  Points Redeemed  \\\n",
       "0              3      1521               152.0                0   \n",
       "1              4      1320               132.0                0   \n",
       "2             10      3110               311.0              385   \n",
       "3              4       924                92.0                0   \n",
       "4              0         0                 0.0                0   \n",
       "\n",
       "   Dollar Cost Points Redeemed  ... Postal Code  Gender Education   Salary  \\\n",
       "0                            0  ...     T9G 1W3  Female  Bachelor  92552.0   \n",
       "1                            0  ...     T9G 1W3  Female  Bachelor  92552.0   \n",
       "2                           31  ...     T9G 1W3  Female  Bachelor  92552.0   \n",
       "3                            0  ...     T9G 1W3  Female  Bachelor  92552.0   \n",
       "4                            0  ...     T9G 1W3  Female  Bachelor  92552.0   \n",
       "\n",
       "  Marital Status Loyalty Card     CLV Enrollment Type Enrollment Year  \\\n",
       "0        Married       Aurora  7919.2        Standard            2016   \n",
       "1        Married       Aurora  7919.2        Standard            2016   \n",
       "2        Married       Aurora  7919.2        Standard            2016   \n",
       "3        Married       Aurora  7919.2        Standard            2016   \n",
       "4        Married       Aurora  7919.2        Standard            2016   \n",
       "\n",
       "   Enrollment Month  \n",
       "0                 8  \n",
       "1                 8  \n",
       "2                 8  \n",
       "3                 8  \n",
       "4                 8  \n",
       "\n",
       "[5 rows x 23 columns]"
      ]
     },
     "execution_count": 346,
     "metadata": {},
     "output_type": "execute_result"
    }
   ],
   "source": [
    "df1.head()"
   ]
  },
  {
   "cell_type": "markdown",
   "id": "12170e43",
   "metadata": {},
   "source": [
    "## Hypothesis: Loyalty Card comparision with Total FLights"
   ]
  },
  {
   "cell_type": "markdown",
   "id": "45eefbf6",
   "metadata": {},
   "source": [
    "### HO: The Loyalty Card does not effect total number of flights taken by a passenger\n",
    "### H1: The Loyalty Card does effect total number of flights taken by a passenger. "
   ]
  },
  {
   "cell_type": "code",
   "execution_count": 347,
   "id": "5f15d4c0",
   "metadata": {},
   "outputs": [],
   "source": [
    "from scipy.stats import chi2_contingency "
   ]
  },
  {
   "cell_type": "code",
   "execution_count": 348,
   "id": "78e7ff96",
   "metadata": {},
   "outputs": [
    {
     "name": "stdout",
     "output_type": "stream",
     "text": [
      "Total Flights     0     1     2     3     4     5     6     7     8     9   \\\n",
      "Loyalty Card                                                                 \n",
      "Aurora         40985  1268  2686  1973  2772  1914  3222  2061  2842  2208   \n",
      "Nova           67466  2000  4368  3305  4590  3157  5153  3335  4743  3543   \n",
      "Star           89541  2838  5978  4505  6294  4238  6898  4477  6471  4937   \n",
      "\n",
      "Total Flights  ...   23   24   25   26   27   28  29  30  31  32  \n",
      "Loyalty Card   ...                                                \n",
      "Aurora         ...  352  237  178  130  125   69  52  33  16   5  \n",
      "Nova           ...  537  418  307  251  171   98  68  51  17   6  \n",
      "Star           ...  727  554  415  341  208  139  94  66  28  16  \n",
      "\n",
      "[3 rows x 33 columns]\n"
     ]
    }
   ],
   "source": [
    "### Create the Contingency Table\n",
    "contingency_table = pd.crosstab(df1['Loyalty Card'], df1['Total Flights'])\n",
    "print(contingency_table)"
   ]
  },
  {
   "cell_type": "code",
   "execution_count": 349,
   "id": "b0ade1e2",
   "metadata": {},
   "outputs": [
    {
     "name": "stdout",
     "output_type": "stream",
     "text": [
      "Chi-Square Statistics: 65.17981646327854\n",
      "P-Value: 0.4354452088229432\n",
      "Degrees of Freedom: 64\n",
      "Expected Frequencies: \n",
      "[[4.09198305e+04 1.26195243e+03 2.69337767e+03 2.02189332e+03\n",
      "  2.82234235e+03 1.92392977e+03 3.15653447e+03 2.04049399e+03\n",
      "  2.90501201e+03 2.20893344e+03 2.97466120e+03 2.54209218e+03\n",
      "  2.56461967e+03 2.16987202e+03 2.13081060e+03 1.76582403e+03\n",
      "  1.59697124e+03 1.28096645e+03 1.18982315e+03 8.27109993e+02\n",
      "  7.06205609e+02 5.39419561e+02 4.09421514e+02 3.33985445e+02\n",
      "  2.49869061e+02 1.86006745e+02 1.49218744e+02 1.04163777e+02\n",
      "  6.32422934e+01 4.42282705e+01 3.10011242e+01 1.26071238e+01\n",
      "  5.58020235e+00]\n",
      " [6.71492896e+04 2.07085924e+03 4.41982273e+03 3.31791941e+03\n",
      "  4.63145329e+03 3.15716159e+03 5.17986131e+03 3.34844305e+03\n",
      "  4.76711390e+03 3.62485155e+03 4.88140796e+03 4.17156381e+03\n",
      "  4.20853133e+03 3.56075191e+03 3.49665227e+03 2.89771067e+03\n",
      "  2.62062387e+03 2.10206118e+03 1.95249536e+03 1.35728442e+03\n",
      "  1.15888078e+03 8.85185492e+02 6.71859180e+02 5.48068872e+02\n",
      "  4.10034199e+02 3.05236377e+02 2.44867404e+02 1.70932371e+02\n",
      "  1.03780368e+02 7.25784273e+01 5.08727294e+01 2.06882433e+01\n",
      "  9.15709130e+00]\n",
      " [8.99228798e+04 2.77318833e+03 5.91879960e+03 4.44318727e+03\n",
      "  6.20220437e+03 4.22790864e+03 6.93660422e+03 4.48406295e+03\n",
      "  6.38387409e+03 4.85421502e+03 6.53693083e+03 5.58634400e+03\n",
      "  5.63584900e+03 4.76837607e+03 4.68253713e+03 3.88046530e+03\n",
      "  3.50940489e+03 2.81497237e+03 2.61468150e+03 1.81760559e+03\n",
      "  1.55191361e+03 1.18539495e+03 8.99719307e+02 7.33945684e+02\n",
      "  5.49096740e+02 4.08756878e+02 3.27913851e+02 2.28903852e+02\n",
      "  1.38977339e+02 9.71933022e+01 6.81261464e+01 2.77046329e+01\n",
      "  1.22627063e+01]]\n"
     ]
    }
   ],
   "source": [
    "### Perform the chi-square test\n",
    "chi2, p, dof, expected = chi2_contingency(contingency_table)\n",
    "\n",
    "### Output the results\n",
    "print(f\"Chi-Square Statistics: {chi2}\")\n",
    "print(f\"P-Value: {p}\")\n",
    "print(f\"Degrees of Freedom: {dof}\")\n",
    "print(f\"Expected Frequencies: \")\n",
    "print(expected)"
   ]
  },
  {
   "cell_type": "code",
   "execution_count": 350,
   "id": "1f07fb9a",
   "metadata": {},
   "outputs": [
    {
     "name": "stdout",
     "output_type": "stream",
     "text": [
      "Fail to Reject the Null Hypothesis (H1): The loyalty card does not effect the total number of flights taken by a passenger\n"
     ]
    }
   ],
   "source": [
    "### Decision Based on p-value\n",
    "alpha = 0.05\n",
    "if p < alpha:\n",
    "    print(\"Reject the Null Hypothesis (HO): The loyalty card does effect total number of flights taken by a passenger\")\n",
    "else:\n",
    "    print(\"Fail to Reject the Null Hypothesis (H1): The loyalty card does not effect the total number of flights taken by a passenger\")\n",
    "    "
   ]
  },
  {
   "cell_type": "markdown",
   "id": "e08f8c97",
   "metadata": {},
   "source": [
    "## Hypothesis: Loyalty Card comparision with Flights with Companions"
   ]
  },
  {
   "cell_type": "markdown",
   "id": "fe026205",
   "metadata": {},
   "source": [
    "### HO: The Loyalty Card does not significant impact on Flight Booked With Companions\n",
    "### H1: The Loyalty Card does have significant impact on Flight Booked With Companions"
   ]
  },
  {
   "cell_type": "code",
   "execution_count": 351,
   "id": "9eb31fe2",
   "metadata": {},
   "outputs": [
    {
     "name": "stdout",
     "output_type": "stream",
     "text": [
      "Flights with Companions      0     1     2     3     4     5     6     7   \\\n",
      "Loyalty Card                                                                \n",
      "Aurora                    61434  3658  3938  3936  2889  2717  2026  1456   \n",
      "Nova                     100742  6166  6522  6422  4521  4605  3381  2370   \n",
      "Star                     134711  8081  8812  8657  6255  6102  4504  3263   \n",
      "\n",
      "Flights with Companions    8     9    10   11  \n",
      "Loyalty Card                                   \n",
      "Aurora                    831   630  198  119  \n",
      "Nova                     1341   995  370  133  \n",
      "Star                     1793  1319  503  224  \n"
     ]
    }
   ],
   "source": [
    "### Create the Contingency Table\n",
    "contingency_table = pd.crosstab(df1['Loyalty Card'], df1['Flights with Companions'])\n",
    "print(contingency_table)"
   ]
  },
  {
   "cell_type": "code",
   "execution_count": 352,
   "id": "df020073",
   "metadata": {},
   "outputs": [
    {
     "name": "stdout",
     "output_type": "stream",
     "text": [
      "Chi-Square Statistics: 25.522636061746656\n",
      "P-Value: 0.2727405400844645\n",
      "Degrees of Freedom: 22\n",
      "Expected Frequencies: \n",
      "[[6.13588717e+04 3.70050086e+03 3.98302444e+03 3.92990918e+03\n",
      "  2.82420241e+03 2.77439394e+03 2.04834761e+03 1.46511313e+03\n",
      "  8.19463050e+02 6.08448731e+02 2.21348027e+02 9.83769008e+01]\n",
      " [1.00689680e+05 6.07250814e+03 6.53612828e+03 6.44896633e+03\n",
      "  4.63450565e+03 4.55277013e+03 3.36133081e+03 2.40424519e+03\n",
      "  1.34473581e+03 9.98462103e+02 3.63231288e+02 1.61436128e+02]\n",
      " [1.34838448e+05 8.13199101e+03 8.75284729e+03 8.63612449e+03\n",
      "  6.20629194e+03 6.09683593e+03 4.50132158e+03 3.21964168e+03\n",
      "  1.80080114e+03 1.33708917e+03 4.86420685e+02 2.16186971e+02]]\n"
     ]
    }
   ],
   "source": [
    "### Perform the chi-square test\n",
    "chi2, p, dof, expected = chi2_contingency(contingency_table)\n",
    "\n",
    "### Output the results\n",
    "print(f\"Chi-Square Statistics: {chi2}\")\n",
    "print(f\"P-Value: {p}\")\n",
    "print(f\"Degrees of Freedom: {dof}\")\n",
    "print(f\"Expected Frequencies: \")\n",
    "print(expected)"
   ]
  },
  {
   "cell_type": "code",
   "execution_count": 353,
   "id": "23725d76",
   "metadata": {
    "scrolled": true
   },
   "outputs": [
    {
     "name": "stdout",
     "output_type": "stream",
     "text": [
      "Fail to Reject the Null Hypothesis (H1): The loyalty card does not effect the total number of flights booked with companions\n"
     ]
    }
   ],
   "source": [
    "### Decision Based on p-value\n",
    "alpha = 0.05\n",
    "if p < alpha:\n",
    "    print(\"Reject the Null Hypothesis (HO): The loyalty card does effect total number of flights booked with companions\")\n",
    "else:\n",
    "    print(\"Fail to Reject the Null Hypothesis (H1): The loyalty card does not effect the total number of flights booked with companions\")\n",
    "    "
   ]
  },
  {
   "cell_type": "markdown",
   "id": "b85fcc06",
   "metadata": {},
   "source": [
    "#### Fail to Reject the Null Hypothesis (H1): The loyalty card does not effect the total number of flights booked with companions"
   ]
  },
  {
   "cell_type": "markdown",
   "id": "1a87ce01",
   "metadata": {},
   "source": [
    "## Hypothesis: Enrollment Type comparison with Total Flights taken by a passenger"
   ]
  },
  {
   "cell_type": "markdown",
   "id": "7dbe9ba4",
   "metadata": {},
   "source": [
    "### HO: Enrollment type does not have significant impact on Total FLights \n",
    "### H1: Enrollment Type does have significant impact on Total Flights"
   ]
  },
  {
   "cell_type": "code",
   "execution_count": 354,
   "id": "b5ccb398",
   "metadata": {},
   "outputs": [
    {
     "name": "stdout",
     "output_type": "stream",
     "text": [
      "Total Flights        0     1      2     3      4     5      6     7      8   \\\n",
      "Enrollment Type                                                               \n",
      "2018 Promotion    14368   239    557   426    574   413    619   420    607   \n",
      "Standard         183624  5867  12475  9357  13082  8896  14654  9453  13449   \n",
      "\n",
      "Total Flights       9   ...    23    24   25   26   27   28   29   30  31  32  \n",
      "Enrollment Type         ...                                                    \n",
      "2018 Promotion     465  ...    75    54   45   34   21   16   10    8   1   2  \n",
      "Standard         10223  ...  1541  1155  855  688  483  290  204  142  60  25  \n",
      "\n",
      "[2 rows x 33 columns]\n"
     ]
    }
   ],
   "source": [
    "### Create the Contingency Table\n",
    "contingency_table = pd.crosstab(df1['Enrollment Type'], df1['Total Flights'])\n",
    "print(contingency_table)"
   ]
  },
  {
   "cell_type": "code",
   "execution_count": 355,
   "id": "730c7a4c",
   "metadata": {},
   "outputs": [
    {
     "name": "stdout",
     "output_type": "stream",
     "text": [
      "Chi-Square Statistics: 1587.5903273887961\n",
      "P-Value: 0.0\n",
      "Degrees of Freedom: 32\n",
      "Expected Frequencies: \n",
      "[[1.14336543e+04 3.52609668e+02 7.52572747e+02 5.64949293e+02\n",
      "  7.88607538e+02 5.37576711e+02 8.81986155e+02 5.70146619e+02\n",
      "  8.11706763e+02 6.17211289e+02 8.31167860e+02 7.10301166e+02\n",
      "  7.16595704e+02 6.06296906e+02 5.95382522e+02 4.93399444e+02\n",
      "  4.46219277e+02 3.57922490e+02 3.32455594e+02 2.31107745e+02\n",
      "  1.97325129e+02 1.50722442e+02 1.14398911e+02 9.33208686e+01\n",
      "  6.98174073e+01 5.19732560e+01 4.16941009e+01 2.91050234e+01\n",
      "  1.76709070e+01 1.23580853e+01 8.66220934e+00 3.52263180e+00\n",
      "  1.55919768e+00]\n",
      " [1.86558346e+05 5.75339033e+03 1.22794273e+04 9.21805071e+03\n",
      "  1.28673925e+04 8.77142329e+03 1.43910138e+04 9.30285338e+03\n",
      "  1.32442932e+04 1.00707887e+04 1.35618321e+04 1.15896988e+04\n",
      "  1.16924043e+04 9.89270309e+03 9.71461748e+03 8.05060056e+03\n",
      "  7.28078072e+03 5.84007751e+03 5.42454441e+03 3.77089225e+03\n",
      "  3.21967487e+03 2.45927756e+03 1.86660109e+03 1.52267913e+03\n",
      "  1.13918259e+03 8.48026744e+02 6.80305899e+02 4.74894977e+02\n",
      "  2.88329093e+02 2.01641915e+02 1.41337791e+02 5.74773682e+01\n",
      "  2.54408023e+01]]\n"
     ]
    }
   ],
   "source": [
    "### Perform the chi-square test\n",
    "chi2, p, dof, expected = chi2_contingency(contingency_table)\n",
    "\n",
    "### Output the results\n",
    "print(f\"Chi-Square Statistics: {chi2}\")\n",
    "print(f\"P-Value: {p}\")\n",
    "print(f\"Degrees of Freedom: {dof}\")\n",
    "print(f\"Expected Frequencies: \")\n",
    "print(expected)"
   ]
  },
  {
   "cell_type": "code",
   "execution_count": 356,
   "id": "bfebb410",
   "metadata": {},
   "outputs": [
    {
     "name": "stdout",
     "output_type": "stream",
     "text": [
      "Reject the Null Hypothesis (HO): The Enrollment Type does effect total number of flights taken by a passenger\n"
     ]
    }
   ],
   "source": [
    "### Decision Based on p-value\n",
    "alpha = 0.05\n",
    "if p < alpha:\n",
    "    print(\"Reject the Null Hypothesis (HO): The Enrollment Type does effect total number of flights taken by a passenger\")\n",
    "else:\n",
    "    print(\"Fail to Reject the Null Hypothesis (H1): The Enrollment Type does not effect the total number of flights taken by a passenger\")\n",
    "    "
   ]
  },
  {
   "cell_type": "markdown",
   "id": "5aa4b431",
   "metadata": {},
   "source": [
    "#### Reject the Null Hypothesis (HO): The Enrollment Type does effect total number of flights taken by a passenger"
   ]
  },
  {
   "cell_type": "markdown",
   "id": "5dc8f4d8",
   "metadata": {},
   "source": [
    "## Hypothesis: Enrollment Type comparison with Points Accumulated"
   ]
  },
  {
   "cell_type": "markdown",
   "id": "a52eb7dc",
   "metadata": {},
   "source": [
    "### HO: Enrollment Type does not significant impact on Points Accumulated\n",
    "### H1: Enrollment Type does have significant impact on Points Accumulated"
   ]
  },
  {
   "cell_type": "code",
   "execution_count": 357,
   "id": "f4dc0e9d",
   "metadata": {},
   "outputs": [
    {
     "name": "stdout",
     "output_type": "stream",
     "text": [
      "Points Accumulated  0.00    9.00    9.72    10.00   10.80   11.00   11.25   \\\n",
      "Enrollment Type                                                              \n",
      "2018 Promotion       14368       1       0       0       0       0       0   \n",
      "Standard            183624      14       4      17       1      11       1   \n",
      "\n",
      "Points Accumulated  11.88   12.00   12.50   ...  648.00  649.50  655.50  \\\n",
      "Enrollment Type                             ...                           \n",
      "2018 Promotion           0       1       0  ...       0       0       0   \n",
      "Standard                 1      12       1  ...       3       1       1   \n",
      "\n",
      "Points Accumulated  658.50  661.50  663.00  666.00  667.50  675.00  676.50  \n",
      "Enrollment Type                                                             \n",
      "2018 Promotion           0       1       0       1       0       0       0  \n",
      "Standard                 1       0       1       1       1       2       1  \n",
      "\n",
      "[2 rows x 1549 columns]\n"
     ]
    }
   ],
   "source": [
    "### Create the Contingency Table\n",
    "contingency_table = pd.crosstab(df1['Enrollment Type'], df1['Points Accumulated'])\n",
    "print(contingency_table)"
   ]
  },
  {
   "cell_type": "code",
   "execution_count": 358,
   "id": "24c15a64",
   "metadata": {},
   "outputs": [
    {
     "name": "stdout",
     "output_type": "stream",
     "text": [
      "Chi-Square Statistics: 2771.3434369988017\n",
      "P-Value: 2.3500477329707476e-72\n",
      "Degrees of Freedom: 1548\n",
      "Expected Frequencies: \n",
      "[[1.14336543e+04 8.66220934e-01 2.30992249e-01 ... 5.77480622e-02\n",
      "  1.15496124e-01 5.77480622e-02]\n",
      " [1.86558346e+05 1.41337791e+01 3.76900775e+00 ... 9.42251938e-01\n",
      "  1.88450388e+00 9.42251938e-01]]\n"
     ]
    }
   ],
   "source": [
    "### Perform the chi-square test\n",
    "chi2, p, dof, expected = chi2_contingency(contingency_table)\n",
    "\n",
    "### Output the results\n",
    "print(f\"Chi-Square Statistics: {chi2}\")\n",
    "print(f\"P-Value: {p}\")\n",
    "print(f\"Degrees of Freedom: {dof}\")\n",
    "print(f\"Expected Frequencies: \")\n",
    "print(expected)"
   ]
  },
  {
   "cell_type": "code",
   "execution_count": 359,
   "id": "58f26487",
   "metadata": {},
   "outputs": [
    {
     "name": "stdout",
     "output_type": "stream",
     "text": [
      "Reject the Null Hypothesis (HO): The Enrollment type does effect the points accumulated by a passenger\n"
     ]
    }
   ],
   "source": [
    "### Decision Based on p-value\n",
    "alpha = 0.05\n",
    "if p < alpha:\n",
    "    print(\"Reject the Null Hypothesis (HO): The Enrollment type does effect the points accumulated by a passenger\")\n",
    "else:\n",
    "    print(\"Fail to Reject the Null Hypothesis (H1): The Enrollment type does not effect the point accumulated by a passenger \")\n",
    "    "
   ]
  },
  {
   "cell_type": "markdown",
   "id": "ef5aa7cb",
   "metadata": {},
   "source": [
    "#### Reject the Null Hypothesis (HO): The Enrollment type does effect the points accumulated by a passenger"
   ]
  },
  {
   "cell_type": "markdown",
   "id": "a2b6c1ec",
   "metadata": {},
   "source": [
    "## Hypothesis: The Different between Loyalty Card and Education Level "
   ]
  },
  {
   "cell_type": "markdown",
   "id": "4ef28857",
   "metadata": {},
   "source": [
    "### HO: There is significant difference between Customer Lifetime value(CLV) and Education Level of Passenger\n",
    "### H1: There is no significant difference between Customer Lifetime value(CLV) and Education Level of Passenger"
   ]
  },
  {
   "cell_type": "code",
   "execution_count": 360,
   "id": "4c9d09ab",
   "metadata": {},
   "outputs": [],
   "source": [
    "from statsmodels.formula.api import ols\n",
    "from statsmodels.stats.anova import anova_lm"
   ]
  },
  {
   "cell_type": "code",
   "execution_count": 361,
   "id": "fef41146",
   "metadata": {},
   "outputs": [
    {
     "data": {
      "image/png": "[encoded data removed]",
      "text/plain": [
       "<Figure size 640x480 with 1 Axes>"
      ]
     },
     "metadata": {},
     "output_type": "display_data"
    },
    {
     "data": {
      "image/png": "[encoded data removed]",
      "text/plain": [
       "<Figure size 640x480 with 1 Axes>"
      ]
     },
     "metadata": {},
     "output_type": "display_data"
    }
   ],
   "source": [
    "### Exploratory Data Analysis\n",
    "sns.boxplot(x='Education',y='CLV',data = df1)\n",
    "plt.title('Customer Lifetime Value by Education')\n",
    "plt.show()\n",
    "\n",
    "sns.boxplot(x='Gender',y='CLV',data = df1)\n",
    "plt.title('Customer Lifetime Value by Gender')\n",
    "plt.show()\n"
   ]
  },
  {
   "cell_type": "code",
   "execution_count": 362,
   "id": "38443cdd",
   "metadata": {
    "scrolled": true
   },
   "outputs": [
    {
     "name": "stdout",
     "output_type": "stream",
     "text": [
      "                    df        sum_sq       mean_sq           F         PR(>F)\n",
      "C(Education)       4.0  3.515773e+10  8.789432e+09  186.915068  2.344860e-160\n",
      "Residual      405619.0  1.907369e+13  4.702367e+07         NaN            NaN\n"
     ]
    }
   ],
   "source": [
    "### Perform ANOVA for Education\n",
    "model_education = ols('CLV ~ C(Education)',data=df1).fit()\n",
    "anova_education = anova_lm(model_education)\n",
    "print(anova_education)"
   ]
  },
  {
   "cell_type": "code",
   "execution_count": 363,
   "id": "536f505a",
   "metadata": {},
   "outputs": [],
   "source": [
    "# Ensure the dependent variable is numeric\n",
    "if not np.issubdtype(df1['CLV'].dtype, np.number):\n",
    "    raise TypeError(\"LoyaltyScore should be a numeric variable\")"
   ]
  },
  {
   "cell_type": "code",
   "execution_count": 364,
   "id": "70e07b8a",
   "metadata": {},
   "outputs": [],
   "source": [
    "# Convert categorical variables to type 'category' if not already\n",
    "categorical_columns = ['Education', 'Marital Status']\n",
    "for col in categorical_columns:\n",
    "    if df1[col].dtype != 'category':\n",
    "        df1[col] = df1[col].astype('category')"
   ]
  },
  {
   "cell_type": "code",
   "execution_count": 365,
   "id": "61c99e61",
   "metadata": {},
   "outputs": [
    {
     "name": "stdout",
     "output_type": "stream",
     "text": [
      "                    df        sum_sq       mean_sq           F         PR(>F)\n",
      "C(Education)       4.0  3.515773e+10  8.789432e+09  186.915068  2.344860e-160\n",
      "Residual      405619.0  1.907369e+13  4.702367e+07         NaN            NaN\n"
     ]
    }
   ],
   "source": [
    "### Perform ANOVA for Gender\n",
    "model_gender = ols('CLV ~ C(Gender)',data=df1).fit()\n",
    "anova_gender = anova_lm(model_education)\n",
    "print(anova_gender)"
   ]
  },
  {
   "cell_type": "code",
   "execution_count": 366,
   "id": "4f4bd91c",
   "metadata": {
    "scrolled": true
   },
   "outputs": [
    {
     "name": "stdout",
     "output_type": "stream",
     "text": [
      "ANOVA Results for Education:\n",
      "There is a significant difference in Customer Lifetime Value based on Education.\n",
      "\n",
      "ANOVA Results for Gender:\n",
      "There is a significant difference in Customer Lifetime Value based on Gender.\n"
     ]
    }
   ],
   "source": [
    "# Interpretation of results\n",
    "alpha = 0.05\n",
    "print(\"ANOVA Results for Education:\")\n",
    "if anova_education['PR(>F)'][0] < alpha:\n",
    "    print(\"There is a significant difference in Customer Lifetime Value based on Education.\")\n",
    "else:\n",
    "    print(\"There is no significant difference in Customer Lifetime Value based on Education.\")\n",
    "    \n",
    "print(\"\\nANOVA Results for Gender:\")\n",
    "if anova_gender['PR(>F)'][0] < alpha:\n",
    "    print(\"There is a significant difference in Customer Lifetime Value based on Gender.\")\n",
    "else:\n",
    "    print(\"There is no significant difference in Customer Lifetime Value based on Gender.\")\n"
   ]
  },
  {
   "cell_type": "markdown",
   "id": "d68e8277",
   "metadata": {},
   "source": [
    "#### There is a significant difference in Customer Lifetime Value based on Education.\n",
    "\n",
    "#### There is a significant difference in Customer Lifetime Value based on Gender."
   ]
  },
  {
   "cell_type": "markdown",
   "id": "820ad770",
   "metadata": {},
   "source": [
    "## Visualization"
   ]
  },
  {
   "cell_type": "code",
   "execution_count": 367,
   "id": "d7213295",
   "metadata": {},
   "outputs": [
    {
     "data": {
      "image/png": "[encoded data removed]",
      "text/plain": [
       "<Figure size 640x480 with 1 Axes>"
      ]
     },
     "metadata": {},
     "output_type": "display_data"
    }
   ],
   "source": [
    "sns.boxplot(x='Loyalty Card',y = 'CLV', data = df1)\n",
    "plt.title('Customer Lifetime Value by Loyalty Card')\n",
    "plt.show()"
   ]
  },
  {
   "cell_type": "code",
   "execution_count": 368,
   "id": "ac3dd3dc",
   "metadata": {
    "scrolled": true
   },
   "outputs": [
    {
     "data": {
      "image/png": "[encoded data removed]",
      "text/plain": [
       "<Figure size 640x480 with 1 Axes>"
      ]
     },
     "metadata": {},
     "output_type": "display_data"
    }
   ],
   "source": [
    "sns.boxplot(x='Marital Status',y = 'CLV', data = df1)\n",
    "plt.title('Customer Lifetime Value by Marital Status')\n",
    "plt.show()"
   ]
  },
  {
   "cell_type": "code",
   "execution_count": 369,
   "id": "e8f4ca03",
   "metadata": {
    "scrolled": true
   },
   "outputs": [
    {
     "data": {
      "image/png": "[encoded data removed]",
      "text/plain": [
       "<Figure size 640x480 with 1 Axes>"
      ]
     },
     "metadata": {},
     "output_type": "display_data"
    }
   ],
   "source": [
    "sns.boxplot(x='Gender',y = 'CLV', data = df1)\n",
    "plt.title('Customer Lifetime Value by Gender')\n",
    "plt.show()"
   ]
  },
  {
   "cell_type": "code",
   "execution_count": 377,
   "id": "a813b3a5",
   "metadata": {},
   "outputs": [
    {
     "data": {
      "text/plain": [
       "<Axes: xlabel='Salary', ylabel='CLV'>"
      ]
     },
     "execution_count": 377,
     "metadata": {},
     "output_type": "execute_result"
    },
    {
     "name": "stderr",
     "output_type": "stream",
     "text": [
      "/Users/admin/anaconda3/lib/python3.10/site-packages/IPython/core/events.py:89: UserWarning: Creating legend with loc=\"best\" can be slow with large amounts of data.\n",
      "  func(*args, **kwargs)\n",
      "/Users/admin/anaconda3/lib/python3.10/site-packages/IPython/core/pylabtools.py:152: UserWarning: Creating legend with loc=\"best\" can be slow with large amounts of data.\n",
      "  fig.canvas.print_figure(bytes_io, **kw)\n"
     ]
    },
    {
     "data": {
      "image/png": "[encoded data removed]",
      "text/plain": [
       "<Figure size 640x480 with 1 Axes>"
      ]
     },
     "metadata": {},
     "output_type": "display_data"
    }
   ],
   "source": [
    "sns.scatterplot(x='Salary', y='CLV', data=df1, hue='Education', style='Education', size='Gender', sizes=(10, 250))"
   ]
  },
  {
   "cell_type": "code",
   "execution_count": 378,
   "id": "d983714c",
   "metadata": {},
   "outputs": [
    {
     "name": "stdout",
     "output_type": "stream",
     "text": [
      "<class 'pandas.core.frame.DataFrame'>\n",
      "Int64Index: 405624 entries, 0 to 405623\n",
      "Data columns (total 23 columns):\n",
      " #   Column                       Non-Null Count   Dtype   \n",
      "---  ------                       --------------   -----   \n",
      " 0   Loyalty Number               405624 non-null  int64   \n",
      " 1   Year                         405624 non-null  int64   \n",
      " 2   Month                        405624 non-null  int64   \n",
      " 3   Flights Booked               405624 non-null  int64   \n",
      " 4   Flights with Companions      405624 non-null  int64   \n",
      " 5   Total Flights                405624 non-null  int64   \n",
      " 6   Distance                     405624 non-null  int64   \n",
      " 7   Points Accumulated           405624 non-null  float64 \n",
      " 8   Points Redeemed              405624 non-null  int64   \n",
      " 9   Dollar Cost Points Redeemed  405624 non-null  int64   \n",
      " 10  Country                      405624 non-null  object  \n",
      " 11  Province                     405624 non-null  object  \n",
      " 12  City                         405624 non-null  object  \n",
      " 13  Postal Code                  405624 non-null  object  \n",
      " 14  Gender                       405624 non-null  object  \n",
      " 15  Education                    405624 non-null  category\n",
      " 16  Salary                       302952 non-null  float64 \n",
      " 17  Marital Status               405624 non-null  category\n",
      " 18  Loyalty Card                 405624 non-null  object  \n",
      " 19  CLV                          405624 non-null  float64 \n",
      " 20  Enrollment Type              405624 non-null  object  \n",
      " 21  Enrollment Year              405624 non-null  int64   \n",
      " 22  Enrollment Month             405624 non-null  int64   \n",
      "dtypes: category(2), float64(3), int64(11), object(7)\n",
      "memory usage: 68.9+ MB\n"
     ]
    }
   ],
   "source": [
    "df1.info()"
   ]
  },
  {
   "cell_type": "markdown",
   "id": "77c07683",
   "metadata": {},
   "source": [
    "- No Encoding Required"
   ]
  },
  {
   "cell_type": "code",
   "execution_count": 379,
   "id": "ea8dd8b3",
   "metadata": {},
   "outputs": [],
   "source": [
    "from scipy import stats"
   ]
  },
  {
   "cell_type": "code",
   "execution_count": 380,
   "id": "a4af2cc6",
   "metadata": {},
   "outputs": [
    {
     "name": "stdout",
     "output_type": "stream",
     "text": [
      "Outliers based on Z-score:\n",
      "        Loyalty Number  Year  Month  Flights Booked  Flights with Companions  \\\n",
      "8               100018  2017      8              10                        5   \n",
      "13              100018  2017      3              14                        3   \n",
      "30              100102  2017     12              11                        3   \n",
      "43              100102  2018      9               8                        8   \n",
      "45              100102  2017      3              15                        4   \n",
      "...                ...   ...    ...             ...                      ...   \n",
      "405516          998972  2017     12              11                        1   \n",
      "405525          998972  2017      9               5                        1   \n",
      "405546          999304  2017      6              12                        3   \n",
      "405567          999731  2017     11               2                        2   \n",
      "405603          999891  2017      1               1                        1   \n",
      "\n",
      "        Total Flights  Distance  Points Accumulated  Points Redeemed  \\\n",
      "8                  15      4200               420.0              690   \n",
      "13                 17      2533               253.0              438   \n",
      "30                 14      3542               354.0              510   \n",
      "43                 16      1552               155.0                0   \n",
      "45                 19      1805               180.0              685   \n",
      "...               ...       ...                 ...              ...   \n",
      "405516             12      2724               272.0              623   \n",
      "405525              6       702                70.0              540   \n",
      "405546             15      2160               216.0              809   \n",
      "405567              4      1156               115.0              407   \n",
      "405603              2      2526               252.0              414   \n",
      "\n",
      "        Dollar Cost Points Redeemed  ... Postal Code  Gender Education  \\\n",
      "8                                56  ...     T9G 1W3  Female  Bachelor   \n",
      "13                               36  ...     T9G 1W3  Female  Bachelor   \n",
      "30                               41  ...     M1R 4K3    Male   College   \n",
      "43                                0  ...     M1R 4K3    Male   College   \n",
      "45                               55  ...     M1R 4K3    Male   College   \n",
      "...                             ...  ...         ...     ...       ...   \n",
      "405516                           50  ...     V6V 8Z3  Female   College   \n",
      "405525                           44  ...     V6V 8Z3  Female   College   \n",
      "405546                           65  ...     P5S 6R4    Male   College   \n",
      "405567                           33  ...     V6T 1Y8  Female  Bachelor   \n",
      "405603                           34  ...     B3J 9S2  Female  Bachelor   \n",
      "\n",
      "         Salary Marital Status Loyalty Card      CLV Enrollment Type  \\\n",
      "8       92552.0        Married       Aurora  7919.20        Standard   \n",
      "13      92552.0        Married       Aurora  7919.20        Standard   \n",
      "30          NaN         Single         Nova  2887.74        Standard   \n",
      "43          NaN         Single         Nova  2887.74        Standard   \n",
      "45          NaN         Single         Nova  2887.74        Standard   \n",
      "...         ...            ...          ...      ...             ...   \n",
      "405516      NaN        Married         Nova  4739.30        Standard   \n",
      "405525      NaN        Married         Nova  4739.30        Standard   \n",
      "405546      NaN         Single         Nova  9778.98        Standard   \n",
      "405567  82837.0        Married         Star  2951.29        Standard   \n",
      "405603  75616.0        Married         Nova  3745.37        Standard   \n",
      "\n",
      "       Enrollment Year  Enrollment Month  \n",
      "8                 2016                 8  \n",
      "13                2016                 8  \n",
      "30                2013                 3  \n",
      "43                2013                 3  \n",
      "45                2013                 3  \n",
      "...                ...               ...  \n",
      "405516            2013                 6  \n",
      "405525            2013                 6  \n",
      "405546            2015                 1  \n",
      "405567            2013                 9  \n",
      "405603            2016                 5  \n",
      "\n",
      "[36522 rows x 23 columns]\n"
     ]
    }
   ],
   "source": [
    "### Identifying Outliers\n",
    "\n",
    "# Calculate the Z-scores for each column\n",
    "z_scores = np.abs(stats.zscore(df1.select_dtypes(include=np.number)))\n",
    "\n",
    "# Identify outliers with Z-score > 3\n",
    "outliers_z = df1[(z_scores > 3).any(axis=1)]\n",
    "print(\"Outliers based on Z-score:\")\n",
    "print(outliers_z)"
   ]
  },
  {
   "cell_type": "code",
   "execution_count": 381,
   "id": "f8239231",
   "metadata": {
    "scrolled": true
   },
   "outputs": [
    {
     "name": "stdout",
     "output_type": "stream",
     "text": [
      "Outliers based on IQR\n",
      "       Loyalty Number  Year Month Flights Booked Flights with Companions  \\\n",
      "1050           102184  2018     7             21                       7   \n",
      "2070           104586  2017     7             21                       0   \n",
      "2106           104673  2018     7             21                       0   \n",
      "2201           104960  2018     7             21                       0   \n",
      "2622           105992  2017     7             21                       0   \n",
      "...               ...   ...   ...            ...                     ...   \n",
      "404490         969719  2018     8              0                       0   \n",
      "404492         969719  2018     9              0                       0   \n",
      "404493         969719  2018    10              0                       0   \n",
      "404494         969719  2018    11              0                       0   \n",
      "404495         969719  2018    12              0                       0   \n",
      "\n",
      "       Total Flights Distance  Points Accumulated Points Redeemed  \\\n",
      "1050              28     3640               364.0               0   \n",
      "2070              21     3213               321.0               0   \n",
      "2106              21     2058               205.0               0   \n",
      "2201              21     2688               268.0               0   \n",
      "2622              21     4914               491.0               0   \n",
      "...              ...      ...                 ...             ...   \n",
      "404490             0        0                 0.0               0   \n",
      "404492             0        0                 0.0               0   \n",
      "404493             0        0                 0.0               0   \n",
      "404494             0        0                 0.0               0   \n",
      "404495             0        0                 0.0               0   \n",
      "\n",
      "       Dollar Cost Points Redeemed  ... Postal Code  Gender Education  \\\n",
      "1050                             0  ...     T9O 2W2    Male  Bachelor   \n",
      "2070                             0  ...     K1F 2R2    Male  Bachelor   \n",
      "2106                             0  ...     M5V 1G5    Male  Bachelor   \n",
      "2201                             0  ...     A1C 6H9    Male  Bachelor   \n",
      "2622                             0  ...     M9K 2P4  Female  Bachelor   \n",
      "...                            ...  ...         ...     ...       ...   \n",
      "404490                           0  ...     V6V 8Z3    Male  Bachelor   \n",
      "404492                           0  ...     V6V 8Z3    Male  Bachelor   \n",
      "404493                           0  ...     V6V 8Z3    Male  Bachelor   \n",
      "404494                           0  ...     V6V 8Z3    Male  Bachelor   \n",
      "404495                           0  ...     V6V 8Z3    Male  Bachelor   \n",
      "\n",
      "         Salary Marital Status Loyalty Card       CLV Enrollment Type  \\\n",
      "1050    76887.0        Married         Star   4923.18        Standard   \n",
      "2070    86609.0       Divorced       Aurora   7772.58        Standard   \n",
      "2106    60006.0        Married       Aurora  14723.41        Standard   \n",
      "2201    90265.0        Married         Star   2551.23        Standard   \n",
      "2622    75700.0        Married         Nova   5905.97        Standard   \n",
      "...         ...            ...          ...       ...             ...   \n",
      "404490  88356.0        Married         Star  40235.97        Standard   \n",
      "404492  88356.0        Married         Star  40235.97        Standard   \n",
      "404493  88356.0        Married         Star  40235.97        Standard   \n",
      "404494  88356.0        Married         Star  40235.97        Standard   \n",
      "404495  88356.0        Married         Star  40235.97        Standard   \n",
      "\n",
      "       Enrollment Year  Enrollment Month  \n",
      "1050              2016                 4  \n",
      "2070              2016                12  \n",
      "2106              2012                10  \n",
      "2201              2012                 6  \n",
      "2622              2016                12  \n",
      "...                ...               ...  \n",
      "404490            2016                 5  \n",
      "404492            2016                 5  \n",
      "404493            2016                 5  \n",
      "404494            2016                 5  \n",
      "404495            2016                 5  \n",
      "\n",
      "[118948 rows x 23 columns]\n"
     ]
    }
   ],
   "source": [
    "### Method 2: Interquartile Range\n",
    "\n",
    "def find_outliers_iqr(df1):\n",
    "    outliers = pd.DataFrame(columns=df1.columns)\n",
    "    for col in df1.select_dtypes(include=np.number).columns:\n",
    "            \n",
    "        Q1 = df1[col].quantile(0.25)\n",
    "        Q3 = df1[col].quantile(0.75)\n",
    "        IQR = Q3-Q1\n",
    "        lower_bound = Q1 - 1.5*IQR\n",
    "        upper_bound = Q3 + 1.5*IQR\n",
    "        col_outliers = df1[(df1[col] < lower_bound) | (df1[col] > upper_bound)]\n",
    "        outliers = pd.concat([outliers, col_outliers])\n",
    "    return outliers.drop_duplicates()\n",
    "# Identify Outliers using IQR\n",
    "outliers_iqr = find_outliers_iqr(df1)\n",
    "print(\"Outliers based on IQR\")\n",
    "print(outliers_iqr)"
   ]
  },
  {
   "cell_type": "markdown",
   "id": "721afc53",
   "metadata": {},
   "source": [
    "### Boxplot for Each Numerical Column"
   ]
  },
  {
   "cell_type": "code",
   "execution_count": 382,
   "id": "8a9aeb5f",
   "metadata": {},
   "outputs": [
    {
     "data": {
      "image/png": "[encoded data removed]",
      "text/plain": [
       "<Figure size 1500x1000 with 1 Axes>"
      ]
     },
     "metadata": {},
     "output_type": "display_data"
    }
   ],
   "source": [
    "# Box plot for each numeric column\n",
    "plt.figure(figsize=(15, 10))\n",
    "df1.select_dtypes(include=np.number).boxplot()\n",
    "plt.xticks(rotation=45)\n",
    "plt.title(\"Box Plot for Each Numeric Column\")\n",
    "plt.show()"
   ]
  },
  {
   "cell_type": "code",
   "execution_count": 383,
   "id": "ae9af564",
   "metadata": {
    "scrolled": true
   },
   "outputs": [
    {
     "ename": "NameError",
     "evalue": "name 'Salary' is not defined",
     "output_type": "error",
     "traceback": [
      "\u001b[0;31m---------------------------------------------------------------------------\u001b[0m",
      "\u001b[0;31mNameError\u001b[0m                                 Traceback (most recent call last)",
      "Cell \u001b[0;32mIn[383], line 6\u001b[0m\n\u001b[1;32m      4\u001b[0m plt\u001b[38;5;241m.\u001b[39mfigure(figsize\u001b[38;5;241m=\u001b[39m(\u001b[38;5;241m8\u001b[39m, \u001b[38;5;241m6\u001b[39m))\n\u001b[1;32m      5\u001b[0m sns\u001b[38;5;241m.\u001b[39mboxplot(y\u001b[38;5;241m=\u001b[39mdf1[\u001b[38;5;124m'\u001b[39m\u001b[38;5;124mSalary\u001b[39m\u001b[38;5;124m'\u001b[39m])\n\u001b[0;32m----> 6\u001b[0m plt\u001b[38;5;241m.\u001b[39mtitle(\u001b[38;5;124mf\u001b[39m\u001b[38;5;124m'\u001b[39m\u001b[38;5;124mBox Plot for \u001b[39m\u001b[38;5;132;01m{\u001b[39;00mSalary\u001b[38;5;132;01m}\u001b[39;00m\u001b[38;5;124m'\u001b[39m)\n\u001b[1;32m      7\u001b[0m plt\u001b[38;5;241m.\u001b[39mshow()\n",
      "\u001b[0;31mNameError\u001b[0m: name 'Salary' is not defined"
     ]
    },
    {
     "data": {
      "image/png": "[encoded data removed]",
      "text/plain": [
       "<Figure size 800x600 with 1 Axes>"
      ]
     },
     "metadata": {},
     "output_type": "display_data"
    }
   ],
   "source": [
    "### Outliers Visualzation \n",
    "#### Salary\n",
    "\n",
    "plt.figure(figsize=(8, 6))\n",
    "sns.boxplot(y=df1['Salary'])\n",
    "plt.title(f'Box Plot for {Salary}')\n",
    "plt.show()"
   ]
  },
  {
   "cell_type": "markdown",
   "id": "def8d419",
   "metadata": {},
   "source": [
    "### Outliers Visualzation "
   ]
  },
  {
   "cell_type": "code",
   "execution_count": 384,
   "id": "36629f08",
   "metadata": {},
   "outputs": [],
   "source": [
    "df2_c = df1.copy(deep=True)"
   ]
  },
  {
   "cell_type": "code",
   "execution_count": 385,
   "id": "fdbfea6b",
   "metadata": {
    "scrolled": true
   },
   "outputs": [
    {
     "data": {
      "image/png": "[encoded data removed]",
      "text/plain": [
       "<Figure size 800x600 with 1 Axes>"
      ]
     },
     "metadata": {},
     "output_type": "display_data"
    },
    {
     "data": {
      "image/png": "[encoded data removed]",
      "text/plain": [
       "<Figure size 800x600 with 1 Axes>"
      ]
     },
     "metadata": {},
     "output_type": "display_data"
    }
   ],
   "source": [
    "def visualize_box_plot(data, column, title):\n",
    "    plt.figure(figsize=(8, 6))\n",
    "    sns.boxplot(y=data[column])\n",
    "    plt.title(title)\n",
    "    plt.show()\n",
    "\n",
    "def remove_outliers_z_score(data, column, threshold=3):\n",
    "    z_scores = stats.zscore(data[column])\n",
    "    abs_z_scores = abs(z_scores)\n",
    "    filtered_entries = (abs_z_scores < threshold)\n",
    "    return data[filtered_entries]\n",
    "\n",
    "# Visualize box plot before removing outliers\n",
    "visualize_box_plot(df1, 'Salary', 'Box Plot for Salary (Before Removing Outliers)')\n",
    "\n",
    "# Remove outliers using Z-score method\n",
    "df1_c = remove_outliers_z_score(df1, 'Salary')\n",
    "\n",
    "# Visualize box plot after removing outliers\n",
    "visualize_box_plot(df2_c, 'Salary', 'Box Plot for Salary (After Removing Outliers - Z-score)')"
   ]
  },
  {
   "cell_type": "markdown",
   "id": "061f9529",
   "metadata": {},
   "source": [
    "## Encoding and Model Building"
   ]
  },
  {
   "cell_type": "code",
   "execution_count": 386,
   "id": "d3d2a3f8",
   "metadata": {},
   "outputs": [],
   "source": [
    "df3_c = df1.copy(deep=True)"
   ]
  },
  {
   "cell_type": "code",
   "execution_count": 387,
   "id": "344a8c5b",
   "metadata": {},
   "outputs": [],
   "source": [
    "from sklearn.preprocessing import OneHotEncoder, StandardScaler\n",
    "from sklearn.compose import ColumnTransformer\n",
    "from sklearn.pipeline import Pipeline"
   ]
  },
  {
   "cell_type": "code",
   "execution_count": 388,
   "id": "cc710711",
   "metadata": {},
   "outputs": [],
   "source": [
    "### Download Diffrent Library for Model Building\n",
    "from sklearn.model_selection import train_test_split, GridSearchCV\n",
    "from sklearn.linear_model import LogisticRegression\n",
    "from sklearn.metrics import accuracy_score, confusion_matrix, classification_report\n",
    "from sklearn.metrics import roc_auc_score"
   ]
  },
  {
   "cell_type": "code",
   "execution_count": 389,
   "id": "bd52b052",
   "metadata": {},
   "outputs": [
    {
     "data": {
      "text/html": [
       "<div>\n",
       "<style scoped>\n",
       "    .dataframe tbody tr th:only-of-type {\n",
       "        vertical-align: middle;\n",
       "    }\n",
       "\n",
       "    .dataframe tbody tr th {\n",
       "        vertical-align: top;\n",
       "    }\n",
       "\n",
       "    .dataframe thead th {\n",
       "        text-align: right;\n",
       "    }\n",
       "</style>\n",
       "<table border=\"1\" class=\"dataframe\">\n",
       "  <thead>\n",
       "    <tr style=\"text-align: right;\">\n",
       "      <th></th>\n",
       "      <th>Loyalty Number</th>\n",
       "      <th>Year</th>\n",
       "      <th>Month</th>\n",
       "      <th>Flights Booked</th>\n",
       "      <th>Flights with Companions</th>\n",
       "      <th>Total Flights</th>\n",
       "      <th>Distance</th>\n",
       "      <th>Points Accumulated</th>\n",
       "      <th>Points Redeemed</th>\n",
       "      <th>Dollar Cost Points Redeemed</th>\n",
       "      <th>...</th>\n",
       "      <th>Postal Code</th>\n",
       "      <th>Gender</th>\n",
       "      <th>Education</th>\n",
       "      <th>Salary</th>\n",
       "      <th>Marital Status</th>\n",
       "      <th>Loyalty Card</th>\n",
       "      <th>CLV</th>\n",
       "      <th>Enrollment Type</th>\n",
       "      <th>Enrollment Year</th>\n",
       "      <th>Enrollment Month</th>\n",
       "    </tr>\n",
       "  </thead>\n",
       "  <tbody>\n",
       "    <tr>\n",
       "      <th>0</th>\n",
       "      <td>100018</td>\n",
       "      <td>2017</td>\n",
       "      <td>1</td>\n",
       "      <td>3</td>\n",
       "      <td>0</td>\n",
       "      <td>3</td>\n",
       "      <td>1521</td>\n",
       "      <td>152.0</td>\n",
       "      <td>0</td>\n",
       "      <td>0</td>\n",
       "      <td>...</td>\n",
       "      <td>T9G 1W3</td>\n",
       "      <td>Female</td>\n",
       "      <td>Bachelor</td>\n",
       "      <td>92552.0</td>\n",
       "      <td>Married</td>\n",
       "      <td>Aurora</td>\n",
       "      <td>7919.2</td>\n",
       "      <td>Standard</td>\n",
       "      <td>2016</td>\n",
       "      <td>8</td>\n",
       "    </tr>\n",
       "    <tr>\n",
       "      <th>1</th>\n",
       "      <td>100018</td>\n",
       "      <td>2017</td>\n",
       "      <td>2</td>\n",
       "      <td>2</td>\n",
       "      <td>2</td>\n",
       "      <td>4</td>\n",
       "      <td>1320</td>\n",
       "      <td>132.0</td>\n",
       "      <td>0</td>\n",
       "      <td>0</td>\n",
       "      <td>...</td>\n",
       "      <td>T9G 1W3</td>\n",
       "      <td>Female</td>\n",
       "      <td>Bachelor</td>\n",
       "      <td>92552.0</td>\n",
       "      <td>Married</td>\n",
       "      <td>Aurora</td>\n",
       "      <td>7919.2</td>\n",
       "      <td>Standard</td>\n",
       "      <td>2016</td>\n",
       "      <td>8</td>\n",
       "    </tr>\n",
       "    <tr>\n",
       "      <th>2</th>\n",
       "      <td>100018</td>\n",
       "      <td>2018</td>\n",
       "      <td>10</td>\n",
       "      <td>6</td>\n",
       "      <td>4</td>\n",
       "      <td>10</td>\n",
       "      <td>3110</td>\n",
       "      <td>311.0</td>\n",
       "      <td>385</td>\n",
       "      <td>31</td>\n",
       "      <td>...</td>\n",
       "      <td>T9G 1W3</td>\n",
       "      <td>Female</td>\n",
       "      <td>Bachelor</td>\n",
       "      <td>92552.0</td>\n",
       "      <td>Married</td>\n",
       "      <td>Aurora</td>\n",
       "      <td>7919.2</td>\n",
       "      <td>Standard</td>\n",
       "      <td>2016</td>\n",
       "      <td>8</td>\n",
       "    </tr>\n",
       "    <tr>\n",
       "      <th>3</th>\n",
       "      <td>100018</td>\n",
       "      <td>2017</td>\n",
       "      <td>4</td>\n",
       "      <td>4</td>\n",
       "      <td>0</td>\n",
       "      <td>4</td>\n",
       "      <td>924</td>\n",
       "      <td>92.0</td>\n",
       "      <td>0</td>\n",
       "      <td>0</td>\n",
       "      <td>...</td>\n",
       "      <td>T9G 1W3</td>\n",
       "      <td>Female</td>\n",
       "      <td>Bachelor</td>\n",
       "      <td>92552.0</td>\n",
       "      <td>Married</td>\n",
       "      <td>Aurora</td>\n",
       "      <td>7919.2</td>\n",
       "      <td>Standard</td>\n",
       "      <td>2016</td>\n",
       "      <td>8</td>\n",
       "    </tr>\n",
       "    <tr>\n",
       "      <th>4</th>\n",
       "      <td>100018</td>\n",
       "      <td>2017</td>\n",
       "      <td>5</td>\n",
       "      <td>0</td>\n",
       "      <td>0</td>\n",
       "      <td>0</td>\n",
       "      <td>0</td>\n",
       "      <td>0.0</td>\n",
       "      <td>0</td>\n",
       "      <td>0</td>\n",
       "      <td>...</td>\n",
       "      <td>T9G 1W3</td>\n",
       "      <td>Female</td>\n",
       "      <td>Bachelor</td>\n",
       "      <td>92552.0</td>\n",
       "      <td>Married</td>\n",
       "      <td>Aurora</td>\n",
       "      <td>7919.2</td>\n",
       "      <td>Standard</td>\n",
       "      <td>2016</td>\n",
       "      <td>8</td>\n",
       "    </tr>\n",
       "  </tbody>\n",
       "</table>\n",
       "<p>5 rows × 23 columns</p>\n",
       "</div>"
      ],
      "text/plain": [
       "   Loyalty Number  Year  Month  Flights Booked  Flights with Companions  \\\n",
       "0          100018  2017      1               3                        0   \n",
       "1          100018  2017      2               2                        2   \n",
       "2          100018  2018     10               6                        4   \n",
       "3          100018  2017      4               4                        0   \n",
       "4          100018  2017      5               0                        0   \n",
       "\n",
       "   Total Flights  Distance  Points Accumulated  Points Redeemed  \\\n",
       "0              3      1521               152.0                0   \n",
       "1              4      1320               132.0                0   \n",
       "2             10      3110               311.0              385   \n",
       "3              4       924                92.0                0   \n",
       "4              0         0                 0.0                0   \n",
       "\n",
       "   Dollar Cost Points Redeemed  ... Postal Code  Gender Education   Salary  \\\n",
       "0                            0  ...     T9G 1W3  Female  Bachelor  92552.0   \n",
       "1                            0  ...     T9G 1W3  Female  Bachelor  92552.0   \n",
       "2                           31  ...     T9G 1W3  Female  Bachelor  92552.0   \n",
       "3                            0  ...     T9G 1W3  Female  Bachelor  92552.0   \n",
       "4                            0  ...     T9G 1W3  Female  Bachelor  92552.0   \n",
       "\n",
       "  Marital Status Loyalty Card     CLV Enrollment Type Enrollment Year  \\\n",
       "0        Married       Aurora  7919.2        Standard            2016   \n",
       "1        Married       Aurora  7919.2        Standard            2016   \n",
       "2        Married       Aurora  7919.2        Standard            2016   \n",
       "3        Married       Aurora  7919.2        Standard            2016   \n",
       "4        Married       Aurora  7919.2        Standard            2016   \n",
       "\n",
       "   Enrollment Month  \n",
       "0                 8  \n",
       "1                 8  \n",
       "2                 8  \n",
       "3                 8  \n",
       "4                 8  \n",
       "\n",
       "[5 rows x 23 columns]"
      ]
     },
     "execution_count": 389,
     "metadata": {},
     "output_type": "execute_result"
    }
   ],
   "source": [
    "df3_c.head()"
   ]
  },
  {
   "cell_type": "code",
   "execution_count": 390,
   "id": "7791da76",
   "metadata": {},
   "outputs": [],
   "source": [
    "### Identify Categorical and Numerical Column\n",
    "\n",
    "categorical_features = ['Education', 'Marital Status','Enrollment Type','Gender']\n",
    "numerical_features = ['Month','Flights Booked','Flights with Companions','Total Flights','Distance','Points Accumulated','Points Redeemed','Enrollment Year','Enrollment Month']"
   ]
  },
  {
   "cell_type": "code",
   "execution_count": 391,
   "id": "72bce4e4",
   "metadata": {},
   "outputs": [
    {
     "name": "stdout",
     "output_type": "stream",
     "text": [
      "Loyalty Number                      0\n",
      "Year                                0\n",
      "Month                               0\n",
      "Flights Booked                      0\n",
      "Flights with Companions             0\n",
      "Total Flights                       0\n",
      "Distance                            0\n",
      "Points Accumulated                  0\n",
      "Points Redeemed                     0\n",
      "Dollar Cost Points Redeemed         0\n",
      "Country                             0\n",
      "Province                            0\n",
      "City                                0\n",
      "Postal Code                         0\n",
      "Gender                              0\n",
      "Education                           0\n",
      "Salary                         102672\n",
      "Marital Status                      0\n",
      "Loyalty Card                        0\n",
      "CLV                                 0\n",
      "Enrollment Type                     0\n",
      "Enrollment Year                     0\n",
      "Enrollment Month                    0\n",
      "dtype: int64\n"
     ]
    }
   ],
   "source": [
    "### Check for missing values\n",
    "print(df3_c.isnull().sum())"
   ]
  },
  {
   "cell_type": "markdown",
   "id": "17f3c35c",
   "metadata": {},
   "source": [
    "### Separate feature and target"
   ]
  },
  {
   "cell_type": "code",
   "execution_count": 392,
   "id": "32223c60",
   "metadata": {},
   "outputs": [],
   "source": [
    "### Separate feature and target\n",
    "\n",
    "X = df3_c[categorical_features + numerical_features]\n",
    "y = df3_c['Loyalty Card']"
   ]
  },
  {
   "cell_type": "code",
   "execution_count": 393,
   "id": "4dd5b31a",
   "metadata": {},
   "outputs": [],
   "source": [
    "# Encoding Data with One-Hot-Encoding with ColumnTransformer for preprocessing\n",
    "preprocessor = ColumnTransformer(\n",
    "    transformers=[\n",
    "        ('cat', OneHotEncoder(handle_unknown='ignore'), categorical_features),\n",
    "        ('num', StandardScaler(), numerical_features)\n",
    "    ],\n",
    "    remainder='passthrough'\n",
    ")"
   ]
  },
  {
   "cell_type": "code",
   "execution_count": 394,
   "id": "8e5dbb37",
   "metadata": {},
   "outputs": [],
   "source": [
    "### Split the data into training and testing sets\n",
    "\n",
    "X_train,X_test,y_train,y_test = train_test_split(X,y, test_size=0.2,random_state = 42)"
   ]
  },
  {
   "cell_type": "code",
   "execution_count": 395,
   "id": "f888a1cc",
   "metadata": {},
   "outputs": [],
   "source": [
    "### Create a Pipeline with Preprocessing and Model\n",
    "pipeline = Pipeline(steps=[\n",
    "    ('preprocessor', preprocessor),\n",
    "    ('model', LogisticRegression(penalty = 'l1',multi_class = 'ovr',solver = 'liblinear',max_iter=1000))\n",
    "    \n",
    "])"
   ]
  },
  {
   "cell_type": "code",
   "execution_count": 396,
   "id": "729ad6a1",
   "metadata": {},
   "outputs": [
    {
     "data": {
      "text/html": [
       "<style>#sk-container-id-15 {color: black;background-color: white;}#sk-container-id-15 pre{padding: 0;}#sk-container-id-15 div.sk-toggleable {background-color: white;}#sk-container-id-15 label.sk-toggleable__label {cursor: pointer;display: block;width: 100%;margin-bottom: 0;padding: 0.3em;box-sizing: border-box;text-align: center;}#sk-container-id-15 label.sk-toggleable__label-arrow:before {content: \"▸\";float: left;margin-right: 0.25em;color: #696969;}#sk-container-id-15 label.sk-toggleable__label-arrow:hover:before {color: black;}#sk-container-id-15 div.sk-estimator:hover label.sk-toggleable__label-arrow:before {color: black;}#sk-container-id-15 div.sk-toggleable__content {max-height: 0;max-width: 0;overflow: hidden;text-align: left;background-color: #f0f8ff;}#sk-container-id-15 div.sk-toggleable__content pre {margin: 0.2em;color: black;border-radius: 0.25em;background-color: #f0f8ff;}#sk-container-id-15 input.sk-toggleable__control:checked~div.sk-toggleable__content {max-height: 200px;max-width: 100%;overflow: auto;}#sk-container-id-15 input.sk-toggleable__control:checked~label.sk-toggleable__label-arrow:before {content: \"▾\";}#sk-container-id-15 div.sk-estimator input.sk-toggleable__control:checked~label.sk-toggleable__label {background-color: #d4ebff;}#sk-container-id-15 div.sk-label input.sk-toggleable__control:checked~label.sk-toggleable__label {background-color: #d4ebff;}#sk-container-id-15 input.sk-hidden--visually {border: 0;clip: rect(1px 1px 1px 1px);clip: rect(1px, 1px, 1px, 1px);height: 1px;margin: -1px;overflow: hidden;padding: 0;position: absolute;width: 1px;}#sk-container-id-15 div.sk-estimator {font-family: monospace;background-color: #f0f8ff;border: 1px dotted black;border-radius: 0.25em;box-sizing: border-box;margin-bottom: 0.5em;}#sk-container-id-15 div.sk-estimator:hover {background-color: #d4ebff;}#sk-container-id-15 div.sk-parallel-item::after {content: \"\";width: 100%;border-bottom: 1px solid gray;flex-grow: 1;}#sk-container-id-15 div.sk-label:hover label.sk-toggleable__label {background-color: #d4ebff;}#sk-container-id-15 div.sk-serial::before {content: \"\";position: absolute;border-left: 1px solid gray;box-sizing: border-box;top: 0;bottom: 0;left: 50%;z-index: 0;}#sk-container-id-15 div.sk-serial {display: flex;flex-direction: column;align-items: center;background-color: white;padding-right: 0.2em;padding-left: 0.2em;position: relative;}#sk-container-id-15 div.sk-item {position: relative;z-index: 1;}#sk-container-id-15 div.sk-parallel {display: flex;align-items: stretch;justify-content: center;background-color: white;position: relative;}#sk-container-id-15 div.sk-item::before, #sk-container-id-15 div.sk-parallel-item::before {content: \"\";position: absolute;border-left: 1px solid gray;box-sizing: border-box;top: 0;bottom: 0;left: 50%;z-index: -1;}#sk-container-id-15 div.sk-parallel-item {display: flex;flex-direction: column;z-index: 1;position: relative;background-color: white;}#sk-container-id-15 div.sk-parallel-item:first-child::after {align-self: flex-end;width: 50%;}#sk-container-id-15 div.sk-parallel-item:last-child::after {align-self: flex-start;width: 50%;}#sk-container-id-15 div.sk-parallel-item:only-child::after {width: 0;}#sk-container-id-15 div.sk-dashed-wrapped {border: 1px dashed gray;margin: 0 0.4em 0.5em 0.4em;box-sizing: border-box;padding-bottom: 0.4em;background-color: white;}#sk-container-id-15 div.sk-label label {font-family: monospace;font-weight: bold;display: inline-block;line-height: 1.2em;}#sk-container-id-15 div.sk-label-container {text-align: center;}#sk-container-id-15 div.sk-container {/* jupyter's `normalize.less` sets `[hidden] { display: none; }` but bootstrap.min.css set `[hidden] { display: none !important; }` so we also need the `!important` here to be able to override the default hidden behavior on the sphinx rendered scikit-learn.org. See: https://github.com/scikit-learn/scikit-learn/issues/21755 */display: inline-block !important;position: relative;}#sk-container-id-15 div.sk-text-repr-fallback {display: none;}</style><div id=\"sk-container-id-15\" class=\"sk-top-container\"><div class=\"sk-text-repr-fallback\"><pre>Pipeline(steps=[(&#x27;preprocessor&#x27;,\n",
       "                 ColumnTransformer(remainder=&#x27;passthrough&#x27;,\n",
       "                                   transformers=[(&#x27;cat&#x27;,\n",
       "                                                  OneHotEncoder(handle_unknown=&#x27;ignore&#x27;),\n",
       "                                                  [&#x27;Education&#x27;,\n",
       "                                                   &#x27;Marital Status&#x27;,\n",
       "                                                   &#x27;Enrollment Type&#x27;,\n",
       "                                                   &#x27;Gender&#x27;]),\n",
       "                                                 (&#x27;num&#x27;, StandardScaler(),\n",
       "                                                  [&#x27;Month&#x27;, &#x27;Flights Booked&#x27;,\n",
       "                                                   &#x27;Flights with Companions&#x27;,\n",
       "                                                   &#x27;Total Flights&#x27;, &#x27;Distance&#x27;,\n",
       "                                                   &#x27;Points Accumulated&#x27;,\n",
       "                                                   &#x27;Points Redeemed&#x27;,\n",
       "                                                   &#x27;Enrollment Year&#x27;,\n",
       "                                                   &#x27;Enrollment Month&#x27;])])),\n",
       "                (&#x27;model&#x27;,\n",
       "                 LogisticRegression(max_iter=1000, multi_class=&#x27;ovr&#x27;,\n",
       "                                    penalty=&#x27;l1&#x27;, solver=&#x27;liblinear&#x27;))])</pre><b>In a Jupyter environment, please rerun this cell to show the HTML representation or trust the notebook. <br />On GitHub, the HTML representation is unable to render, please try loading this page with nbviewer.org.</b></div><div class=\"sk-container\" hidden><div class=\"sk-item sk-dashed-wrapped\"><div class=\"sk-label-container\"><div class=\"sk-label sk-toggleable\"><input class=\"sk-toggleable__control sk-hidden--visually\" id=\"sk-estimator-id-127\" type=\"checkbox\" ><label for=\"sk-estimator-id-127\" class=\"sk-toggleable__label sk-toggleable__label-arrow\">Pipeline</label><div class=\"sk-toggleable__content\"><pre>Pipeline(steps=[(&#x27;preprocessor&#x27;,\n",
       "                 ColumnTransformer(remainder=&#x27;passthrough&#x27;,\n",
       "                                   transformers=[(&#x27;cat&#x27;,\n",
       "                                                  OneHotEncoder(handle_unknown=&#x27;ignore&#x27;),\n",
       "                                                  [&#x27;Education&#x27;,\n",
       "                                                   &#x27;Marital Status&#x27;,\n",
       "                                                   &#x27;Enrollment Type&#x27;,\n",
       "                                                   &#x27;Gender&#x27;]),\n",
       "                                                 (&#x27;num&#x27;, StandardScaler(),\n",
       "                                                  [&#x27;Month&#x27;, &#x27;Flights Booked&#x27;,\n",
       "                                                   &#x27;Flights with Companions&#x27;,\n",
       "                                                   &#x27;Total Flights&#x27;, &#x27;Distance&#x27;,\n",
       "                                                   &#x27;Points Accumulated&#x27;,\n",
       "                                                   &#x27;Points Redeemed&#x27;,\n",
       "                                                   &#x27;Enrollment Year&#x27;,\n",
       "                                                   &#x27;Enrollment Month&#x27;])])),\n",
       "                (&#x27;model&#x27;,\n",
       "                 LogisticRegression(max_iter=1000, multi_class=&#x27;ovr&#x27;,\n",
       "                                    penalty=&#x27;l1&#x27;, solver=&#x27;liblinear&#x27;))])</pre></div></div></div><div class=\"sk-serial\"><div class=\"sk-item sk-dashed-wrapped\"><div class=\"sk-label-container\"><div class=\"sk-label sk-toggleable\"><input class=\"sk-toggleable__control sk-hidden--visually\" id=\"sk-estimator-id-128\" type=\"checkbox\" ><label for=\"sk-estimator-id-128\" class=\"sk-toggleable__label sk-toggleable__label-arrow\">preprocessor: ColumnTransformer</label><div class=\"sk-toggleable__content\"><pre>ColumnTransformer(remainder=&#x27;passthrough&#x27;,\n",
       "                  transformers=[(&#x27;cat&#x27;, OneHotEncoder(handle_unknown=&#x27;ignore&#x27;),\n",
       "                                 [&#x27;Education&#x27;, &#x27;Marital Status&#x27;,\n",
       "                                  &#x27;Enrollment Type&#x27;, &#x27;Gender&#x27;]),\n",
       "                                (&#x27;num&#x27;, StandardScaler(),\n",
       "                                 [&#x27;Month&#x27;, &#x27;Flights Booked&#x27;,\n",
       "                                  &#x27;Flights with Companions&#x27;, &#x27;Total Flights&#x27;,\n",
       "                                  &#x27;Distance&#x27;, &#x27;Points Accumulated&#x27;,\n",
       "                                  &#x27;Points Redeemed&#x27;, &#x27;Enrollment Year&#x27;,\n",
       "                                  &#x27;Enrollment Month&#x27;])])</pre></div></div></div><div class=\"sk-parallel\"><div class=\"sk-parallel-item\"><div class=\"sk-item\"><div class=\"sk-label-container\"><div class=\"sk-label sk-toggleable\"><input class=\"sk-toggleable__control sk-hidden--visually\" id=\"sk-estimator-id-129\" type=\"checkbox\" ><label for=\"sk-estimator-id-129\" class=\"sk-toggleable__label sk-toggleable__label-arrow\">cat</label><div class=\"sk-toggleable__content\"><pre>[&#x27;Education&#x27;, &#x27;Marital Status&#x27;, &#x27;Enrollment Type&#x27;, &#x27;Gender&#x27;]</pre></div></div></div><div class=\"sk-serial\"><div class=\"sk-item\"><div class=\"sk-estimator sk-toggleable\"><input class=\"sk-toggleable__control sk-hidden--visually\" id=\"sk-estimator-id-130\" type=\"checkbox\" ><label for=\"sk-estimator-id-130\" class=\"sk-toggleable__label sk-toggleable__label-arrow\">OneHotEncoder</label><div class=\"sk-toggleable__content\"><pre>OneHotEncoder(handle_unknown=&#x27;ignore&#x27;)</pre></div></div></div></div></div></div><div class=\"sk-parallel-item\"><div class=\"sk-item\"><div class=\"sk-label-container\"><div class=\"sk-label sk-toggleable\"><input class=\"sk-toggleable__control sk-hidden--visually\" id=\"sk-estimator-id-131\" type=\"checkbox\" ><label for=\"sk-estimator-id-131\" class=\"sk-toggleable__label sk-toggleable__label-arrow\">num</label><div class=\"sk-toggleable__content\"><pre>[&#x27;Month&#x27;, &#x27;Flights Booked&#x27;, &#x27;Flights with Companions&#x27;, &#x27;Total Flights&#x27;, &#x27;Distance&#x27;, &#x27;Points Accumulated&#x27;, &#x27;Points Redeemed&#x27;, &#x27;Enrollment Year&#x27;, &#x27;Enrollment Month&#x27;]</pre></div></div></div><div class=\"sk-serial\"><div class=\"sk-item\"><div class=\"sk-estimator sk-toggleable\"><input class=\"sk-toggleable__control sk-hidden--visually\" id=\"sk-estimator-id-132\" type=\"checkbox\" ><label for=\"sk-estimator-id-132\" class=\"sk-toggleable__label sk-toggleable__label-arrow\">StandardScaler</label><div class=\"sk-toggleable__content\"><pre>StandardScaler()</pre></div></div></div></div></div></div><div class=\"sk-parallel-item\"><div class=\"sk-item\"><div class=\"sk-label-container\"><div class=\"sk-label sk-toggleable\"><input class=\"sk-toggleable__control sk-hidden--visually\" id=\"sk-estimator-id-133\" type=\"checkbox\" ><label for=\"sk-estimator-id-133\" class=\"sk-toggleable__label sk-toggleable__label-arrow\">remainder</label><div class=\"sk-toggleable__content\"><pre>[]</pre></div></div></div><div class=\"sk-serial\"><div class=\"sk-item\"><div class=\"sk-estimator sk-toggleable\"><input class=\"sk-toggleable__control sk-hidden--visually\" id=\"sk-estimator-id-134\" type=\"checkbox\" ><label for=\"sk-estimator-id-134\" class=\"sk-toggleable__label sk-toggleable__label-arrow\">passthrough</label><div class=\"sk-toggleable__content\"><pre>passthrough</pre></div></div></div></div></div></div></div></div><div class=\"sk-item\"><div class=\"sk-estimator sk-toggleable\"><input class=\"sk-toggleable__control sk-hidden--visually\" id=\"sk-estimator-id-135\" type=\"checkbox\" ><label for=\"sk-estimator-id-135\" class=\"sk-toggleable__label sk-toggleable__label-arrow\">LogisticRegression</label><div class=\"sk-toggleable__content\"><pre>LogisticRegression(max_iter=1000, multi_class=&#x27;ovr&#x27;, penalty=&#x27;l1&#x27;,\n",
       "                   solver=&#x27;liblinear&#x27;)</pre></div></div></div></div></div></div></div>"
      ],
      "text/plain": [
       "Pipeline(steps=[('preprocessor',\n",
       "                 ColumnTransformer(remainder='passthrough',\n",
       "                                   transformers=[('cat',\n",
       "                                                  OneHotEncoder(handle_unknown='ignore'),\n",
       "                                                  ['Education',\n",
       "                                                   'Marital Status',\n",
       "                                                   'Enrollment Type',\n",
       "                                                   'Gender']),\n",
       "                                                 ('num', StandardScaler(),\n",
       "                                                  ['Month', 'Flights Booked',\n",
       "                                                   'Flights with Companions',\n",
       "                                                   'Total Flights', 'Distance',\n",
       "                                                   'Points Accumulated',\n",
       "                                                   'Points Redeemed',\n",
       "                                                   'Enrollment Year',\n",
       "                                                   'Enrollment Month'])])),\n",
       "                ('model',\n",
       "                 LogisticRegression(max_iter=1000, multi_class='ovr',\n",
       "                                    penalty='l1', solver='liblinear'))])"
      ]
     },
     "execution_count": 396,
     "metadata": {},
     "output_type": "execute_result"
    }
   ],
   "source": [
    "### Fit the Pipeline on the Training Data\n",
    "\n",
    "pipeline.fit(X_train,y_train)"
   ]
  },
  {
   "cell_type": "code",
   "execution_count": 397,
   "id": "31b840c2",
   "metadata": {},
   "outputs": [],
   "source": [
    "### Make Predictions on the test data\n",
    "y_pred = pipeline.predict(X_test)"
   ]
  },
  {
   "cell_type": "code",
   "execution_count": 398,
   "id": "44910934",
   "metadata": {},
   "outputs": [],
   "source": [
    "### Extract feature names after preprocessing\n",
    "\n",
    "feature_names = np.array(preprocessor.transformers_[0][1].get_feature_names_out(categorical_features))\n",
    "feature_names = np.append(feature_names,numerical_features)"
   ]
  },
  {
   "cell_type": "code",
   "execution_count": 399,
   "id": "e386892a",
   "metadata": {},
   "outputs": [],
   "source": [
    "### Retrieve coefficients from the logistic Regression Model\n",
    "\n",
    "coefficients = pipeline.named_steps['model'].coef_[0]"
   ]
  },
  {
   "cell_type": "code",
   "execution_count": 400,
   "id": "8a921949",
   "metadata": {},
   "outputs": [],
   "source": [
    "### Create a Dataframe to display feature importance\n",
    "\n",
    "feature_importance = ({\n",
    "    'Feature' : feature_names,\n",
    "    'Coefficient' : coefficients\n",
    "    \n",
    "})"
   ]
  },
  {
   "cell_type": "code",
   "execution_count": 401,
   "id": "cbeaef68",
   "metadata": {},
   "outputs": [
    {
     "name": "stdout",
     "output_type": "stream",
     "text": [
      "{'Feature': array(['Education_Bachelor', 'Education_College', 'Education_Doctor',\n",
      "       'Education_High School or Below', 'Education_Master',\n",
      "       'Marital Status_Divorced', 'Marital Status_Married',\n",
      "       'Marital Status_Single', 'Enrollment Type_2018 Promotion',\n",
      "       'Enrollment Type_Standard', 'Gender_Female', 'Gender_Male',\n",
      "       'Month', 'Flights Booked', 'Flights with Companions',\n",
      "       'Total Flights', 'Distance', 'Points Accumulated',\n",
      "       'Points Redeemed', 'Enrollment Year', 'Enrollment Month'],\n",
      "      dtype=object), 'Coefficient': array([ 8.11034522e-02, -7.59883050e-02, -1.59954277e-01, -1.89984741e-01,\n",
      "       -2.82860103e-01, -1.23001960e-01, -7.96001487e-02, -1.94315386e-01,\n",
      "       -1.05638386e+00, -1.14940960e+00, -2.66285260e-02, -8.68754793e-03,\n",
      "        6.26576848e-02,  1.16150568e-02,  7.98463100e-03,  1.40703551e-02,\n",
      "       -2.46778277e+00,  2.43985133e+00,  2.20115738e-04, -1.35476651e-02,\n",
      "        3.81199311e-03])}\n"
     ]
    }
   ],
   "source": [
    "### Display the Feature importance\n",
    "\n",
    "print(feature_importance)"
   ]
  },
  {
   "cell_type": "markdown",
   "id": "89129a82",
   "metadata": {},
   "source": [
    "### Feature Importance: Recursive Feature Elimination\n",
    "\n",
    "from sklearn.feature_selection import RFE\n",
    "\n",
    "rfe = RFE(model, n_features_to_select=10)  # Select top 10 features\n",
    "rfe.fit(X_train, y_train)"
   ]
  },
  {
   "cell_type": "code",
   "execution_count": 403,
   "id": "f0bec857",
   "metadata": {},
   "outputs": [
    {
     "data": {
      "image/png": "[encoded data removed]",
      "text/plain": [
       "<Figure size 1000x600 with 1 Axes>"
      ]
     },
     "metadata": {},
     "output_type": "display_data"
    }
   ],
   "source": [
    "# Plot feature importance\n",
    "plt.figure(figsize=(10, 6))\n",
    "plt.barh(feature_importance['Feature'], feature_importance['Coefficient'])\n",
    "plt.xlabel('Coefficient Value')\n",
    "plt.title('Feature Importance in Logistic Regression')\n",
    "plt.gca().invert_yaxis()  # Invert y-axis to show the highest importance at the top\n",
    "plt.show()"
   ]
  },
  {
   "cell_type": "code",
   "execution_count": 404,
   "id": "7ed819ed",
   "metadata": {
    "scrolled": true
   },
   "outputs": [
    {
     "name": "stdout",
     "output_type": "stream",
     "text": [
      "Accuracy: 0.4659106317411402\n",
      "Confusion Matrix: \n",
      "[[  857   167 15846]\n",
      " [  750   818 25958]\n",
      " [    0   607 36122]]\n",
      "Classifiation Report: \n",
      "              precision    recall  f1-score   support\n",
      "\n",
      "      Aurora       0.53      0.05      0.09     16870\n",
      "        Nova       0.51      0.03      0.06     27526\n",
      "        Star       0.46      0.98      0.63     36729\n",
      "\n",
      "    accuracy                           0.47     81125\n",
      "   macro avg       0.50      0.35      0.26     81125\n",
      "weighted avg       0.50      0.47      0.32     81125\n",
      "\n"
     ]
    }
   ],
   "source": [
    "### Evaluate the Model\n",
    "\n",
    "accuracy = accuracy_score(y_test,y_pred)\n",
    "print(f'Accuracy: {accuracy}')\n",
    "\n",
    "conf_matrix = confusion_matrix(y_test,y_pred)\n",
    "print('Confusion Matrix: ')\n",
    "print(conf_matrix)\n",
    "\n",
    "class_report = classification_report(y_test,y_pred)\n",
    "print('Classifiation Report: ')\n",
    "print(class_report)\n"
   ]
  },
  {
   "cell_type": "code",
   "execution_count": 405,
   "id": "7c658f07",
   "metadata": {},
   "outputs": [],
   "source": [
    "### Estimate the probability \n",
    "y_pred_proba = pipeline.predict_proba(X_test)[:,1] ## Probability estimate for positive class"
   ]
  },
  {
   "cell_type": "code",
   "execution_count": 406,
   "id": "2d1db4ab",
   "metadata": {},
   "outputs": [
    {
     "ename": "ValueError",
     "evalue": "multi_class must be in ('ovo', 'ovr')",
     "output_type": "error",
     "traceback": [
      "\u001b[0;31m---------------------------------------------------------------------------\u001b[0m",
      "\u001b[0;31mValueError\u001b[0m                                Traceback (most recent call last)",
      "Cell \u001b[0;32mIn[406], line 2\u001b[0m\n\u001b[1;32m      1\u001b[0m \u001b[38;5;66;03m### Calculate the Roc_Auc_Score\u001b[39;00m\n\u001b[0;32m----> 2\u001b[0m roc_auc \u001b[38;5;241m=\u001b[39m \u001b[43mroc_auc_score\u001b[49m\u001b[43m(\u001b[49m\u001b[43my_test\u001b[49m\u001b[43m,\u001b[49m\u001b[43m \u001b[49m\u001b[43my_pred_proba\u001b[49m\u001b[43m)\u001b[49m\n\u001b[1;32m      3\u001b[0m \u001b[38;5;28mprint\u001b[39m(\u001b[38;5;124mf\u001b[39m\u001b[38;5;124m'\u001b[39m\u001b[38;5;124mRoc_Auc_Score: \u001b[39m\u001b[38;5;132;01m{\u001b[39;00mroc_auc\u001b[38;5;132;01m}\u001b[39;00m\u001b[38;5;124m'\u001b[39m)\n",
      "File \u001b[0;32m~/anaconda3/lib/python3.10/site-packages/sklearn/metrics/_ranking.py:565\u001b[0m, in \u001b[0;36mroc_auc_score\u001b[0;34m(y_true, y_score, average, sample_weight, max_fpr, multi_class, labels)\u001b[0m\n\u001b[1;32m    558\u001b[0m         \u001b[38;5;28;01mraise\u001b[39;00m \u001b[38;5;167;01mValueError\u001b[39;00m(\n\u001b[1;32m    559\u001b[0m             \u001b[38;5;124m\"\u001b[39m\u001b[38;5;124mPartial AUC computation not available in \u001b[39m\u001b[38;5;124m\"\u001b[39m\n\u001b[1;32m    560\u001b[0m             \u001b[38;5;124m\"\u001b[39m\u001b[38;5;124mmulticlass setting, \u001b[39m\u001b[38;5;124m'\u001b[39m\u001b[38;5;124mmax_fpr\u001b[39m\u001b[38;5;124m'\u001b[39m\u001b[38;5;124m must be\u001b[39m\u001b[38;5;124m\"\u001b[39m\n\u001b[1;32m    561\u001b[0m             \u001b[38;5;124m\"\u001b[39m\u001b[38;5;124m set to `None`, received `max_fpr=\u001b[39m\u001b[38;5;132;01m{0}\u001b[39;00m\u001b[38;5;124m` \u001b[39m\u001b[38;5;124m\"\u001b[39m\n\u001b[1;32m    562\u001b[0m             \u001b[38;5;124m\"\u001b[39m\u001b[38;5;124minstead\u001b[39m\u001b[38;5;124m\"\u001b[39m\u001b[38;5;241m.\u001b[39mformat(max_fpr)\n\u001b[1;32m    563\u001b[0m         )\n\u001b[1;32m    564\u001b[0m     \u001b[38;5;28;01mif\u001b[39;00m multi_class \u001b[38;5;241m==\u001b[39m \u001b[38;5;124m\"\u001b[39m\u001b[38;5;124mraise\u001b[39m\u001b[38;5;124m\"\u001b[39m:\n\u001b[0;32m--> 565\u001b[0m         \u001b[38;5;28;01mraise\u001b[39;00m \u001b[38;5;167;01mValueError\u001b[39;00m(\u001b[38;5;124m\"\u001b[39m\u001b[38;5;124mmulti_class must be in (\u001b[39m\u001b[38;5;124m'\u001b[39m\u001b[38;5;124movo\u001b[39m\u001b[38;5;124m'\u001b[39m\u001b[38;5;124m, \u001b[39m\u001b[38;5;124m'\u001b[39m\u001b[38;5;124movr\u001b[39m\u001b[38;5;124m'\u001b[39m\u001b[38;5;124m)\u001b[39m\u001b[38;5;124m\"\u001b[39m)\n\u001b[1;32m    566\u001b[0m     \u001b[38;5;28;01mreturn\u001b[39;00m _multiclass_roc_auc_score(\n\u001b[1;32m    567\u001b[0m         y_true, y_score, labels, multi_class, average, sample_weight\n\u001b[1;32m    568\u001b[0m     )\n\u001b[1;32m    569\u001b[0m \u001b[38;5;28;01melif\u001b[39;00m y_type \u001b[38;5;241m==\u001b[39m \u001b[38;5;124m\"\u001b[39m\u001b[38;5;124mbinary\u001b[39m\u001b[38;5;124m\"\u001b[39m:\n",
      "\u001b[0;31mValueError\u001b[0m: multi_class must be in ('ovo', 'ovr')"
     ]
    }
   ],
   "source": [
    "### Calculate the Roc_Auc_Score\n",
    "roc_auc = roc_auc_score(y_test, y_pred_proba)\n",
    "print(f'Roc_Auc_Score: {roc_auc}')"
   ]
  },
  {
   "cell_type": "code",
   "execution_count": null,
   "id": "5a9a05a5",
   "metadata": {},
   "outputs": [],
   "source": [
    "### Check Data Types\n",
    "print(X_train.dtypes)\n",
    "print(X_test.dtypes)"
   ]
  },
  {
   "cell_type": "code",
   "execution_count": null,
   "id": "dd862ec9",
   "metadata": {},
   "outputs": [],
   "source": []
  },
  {
   "cell_type": "code",
   "execution_count": null,
   "id": "f3645920",
   "metadata": {},
   "outputs": [],
   "source": []
  },
  {
   "cell_type": "code",
   "execution_count": null,
   "id": "a4ef7c07",
   "metadata": {},
   "outputs": [],
   "source": []
  },
  {
   "cell_type": "code",
   "execution_count": null,
   "id": "97559121",
   "metadata": {},
   "outputs": [],
   "source": []
  },
  {
   "cell_type": "code",
   "execution_count": null,
   "id": "8ecd8459",
   "metadata": {},
   "outputs": [],
   "source": [
    "\n"
   ]
  },
  {
   "cell_type": "code",
   "execution_count": null,
   "id": "b631a33d",
   "metadata": {},
   "outputs": [],
   "source": []
  },
  {
   "cell_type": "code",
   "execution_count": null,
   "id": "1baf7ba9",
   "metadata": {},
   "outputs": [],
   "source": []
  },
  {
   "cell_type": "code",
   "execution_count": null,
   "id": "baab5560",
   "metadata": {},
   "outputs": [],
   "source": []
  },
  {
   "cell_type": "code",
   "execution_count": null,
   "id": "775c1532",
   "metadata": {},
   "outputs": [],
   "source": []
  },
  {
   "cell_type": "code",
   "execution_count": null,
   "id": "336cfc14",
   "metadata": {},
   "outputs": [],
   "source": []
  }
 ],
 "metadata": {
  "kernelspec": {
   "display_name": "Python 3 (ipykernel)",
   "language": "python",
   "name": "python3"
  },
  "language_info": {
   "codemirror_mode": {
    "name": "ipython",
    "version": 3
   },
   "file_extension": ".py",
   "mimetype": "text/x-python",
   "name": "python",
   "nbconvert_exporter": "python",
   "pygments_lexer": "ipython3",
   "version": "3.10.9"
  }
 },
 "nbformat": 4,
 "nbformat_minor": 5
}
